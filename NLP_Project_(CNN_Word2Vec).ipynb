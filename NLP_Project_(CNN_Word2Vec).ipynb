{
  "cells": [
    {
      "cell_type": "code",
      "execution_count": 1,
      "metadata": {
        "collapsed": true,
        "id": "nx1szYuYFgUK"
      },
      "outputs": [],
      "source": [
        "import pandas as pd  \n",
        "import numpy as np\n",
        "import matplotlib.pyplot as plt\n",
        "import sklearn\n",
        "plt.style.use('fivethirtyeight')\n",
        "\n",
        "%matplotlib inline\n",
        "%config InlineBackend.figure_format = 'retina'"
      ]
    },
    {
      "cell_type": "code",
      "source": [
        "from google.colab import drive\n",
        "drive.mount('/content/drive')"
      ],
      "metadata": {
        "colab": {
          "base_uri": "https://localhost:8080/"
        },
        "id": "7m7DURjwJRPF",
        "outputId": "1dee1830-f677-4380-849b-52179fe1f539"
      },
      "execution_count": 3,
      "outputs": [
        {
          "output_type": "stream",
          "name": "stdout",
          "text": [
            "Drive already mounted at /content/drive; to attempt to forcibly remount, call drive.mount(\"/content/drive\", force_remount=True).\n"
          ]
        }
      ]
    },
    {
      "cell_type": "code",
      "source": [
        "import os\n",
        "os.chdir(\"/content/drive/MyDrive/Colab Notebooks/\")"
      ],
      "metadata": {
        "id": "5DMS59gEJUyO"
      },
      "execution_count": 4,
      "outputs": []
    },
    {
      "cell_type": "code",
      "execution_count": 5,
      "metadata": {
        "colab": {
          "base_uri": "https://localhost:8080/",
          "height": 206
        },
        "id": "ghuBkIiKFgUN",
        "outputId": "19d1fda9-aae5-41bc-8071-5378b2b4a12c"
      },
      "outputs": [
        {
          "output_type": "execute_result",
          "data": {
            "text/plain": [
              "                                             article  target  length\n",
              "0  karachi in long and detailed rejoinder to his ...       1    4864\n",
              "1  islamabad meeting of the economic coordination...       1    3709\n",
              "2  lahore punjab finance minister dr ayesha ghaus...       0    1918\n",
              "3  islamabad the sec ur ities and exchange com mi...       1    2373\n",
              "4  islamabad new report by the world bank reveals...       0    2378"
            ],
            "text/html": [
              "\n",
              "  <div id=\"df-68e3a697-3944-4637-a75a-8e3f0a8b9bd3\">\n",
              "    <div class=\"colab-df-container\">\n",
              "      <div>\n",
              "<style scoped>\n",
              "    .dataframe tbody tr th:only-of-type {\n",
              "        vertical-align: middle;\n",
              "    }\n",
              "\n",
              "    .dataframe tbody tr th {\n",
              "        vertical-align: top;\n",
              "    }\n",
              "\n",
              "    .dataframe thead th {\n",
              "        text-align: right;\n",
              "    }\n",
              "</style>\n",
              "<table border=\"1\" class=\"dataframe\">\n",
              "  <thead>\n",
              "    <tr style=\"text-align: right;\">\n",
              "      <th></th>\n",
              "      <th>article</th>\n",
              "      <th>target</th>\n",
              "      <th>length</th>\n",
              "    </tr>\n",
              "  </thead>\n",
              "  <tbody>\n",
              "    <tr>\n",
              "      <th>0</th>\n",
              "      <td>karachi in long and detailed rejoinder to his ...</td>\n",
              "      <td>1</td>\n",
              "      <td>4864</td>\n",
              "    </tr>\n",
              "    <tr>\n",
              "      <th>1</th>\n",
              "      <td>islamabad meeting of the economic coordination...</td>\n",
              "      <td>1</td>\n",
              "      <td>3709</td>\n",
              "    </tr>\n",
              "    <tr>\n",
              "      <th>2</th>\n",
              "      <td>lahore punjab finance minister dr ayesha ghaus...</td>\n",
              "      <td>0</td>\n",
              "      <td>1918</td>\n",
              "    </tr>\n",
              "    <tr>\n",
              "      <th>3</th>\n",
              "      <td>islamabad the sec ur ities and exchange com mi...</td>\n",
              "      <td>1</td>\n",
              "      <td>2373</td>\n",
              "    </tr>\n",
              "    <tr>\n",
              "      <th>4</th>\n",
              "      <td>islamabad new report by the world bank reveals...</td>\n",
              "      <td>0</td>\n",
              "      <td>2378</td>\n",
              "    </tr>\n",
              "  </tbody>\n",
              "</table>\n",
              "</div>\n",
              "      <button class=\"colab-df-convert\" onclick=\"convertToInteractive('df-68e3a697-3944-4637-a75a-8e3f0a8b9bd3')\"\n",
              "              title=\"Convert this dataframe to an interactive table.\"\n",
              "              style=\"display:none;\">\n",
              "        \n",
              "  <svg xmlns=\"http://www.w3.org/2000/svg\" height=\"24px\"viewBox=\"0 0 24 24\"\n",
              "       width=\"24px\">\n",
              "    <path d=\"M0 0h24v24H0V0z\" fill=\"none\"/>\n",
              "    <path d=\"M18.56 5.44l.94 2.06.94-2.06 2.06-.94-2.06-.94-.94-2.06-.94 2.06-2.06.94zm-11 1L8.5 8.5l.94-2.06 2.06-.94-2.06-.94L8.5 2.5l-.94 2.06-2.06.94zm10 10l.94 2.06.94-2.06 2.06-.94-2.06-.94-.94-2.06-.94 2.06-2.06.94z\"/><path d=\"M17.41 7.96l-1.37-1.37c-.4-.4-.92-.59-1.43-.59-.52 0-1.04.2-1.43.59L10.3 9.45l-7.72 7.72c-.78.78-.78 2.05 0 2.83L4 21.41c.39.39.9.59 1.41.59.51 0 1.02-.2 1.41-.59l7.78-7.78 2.81-2.81c.8-.78.8-2.07 0-2.86zM5.41 20L4 18.59l7.72-7.72 1.47 1.35L5.41 20z\"/>\n",
              "  </svg>\n",
              "      </button>\n",
              "      \n",
              "  <style>\n",
              "    .colab-df-container {\n",
              "      display:flex;\n",
              "      flex-wrap:wrap;\n",
              "      gap: 12px;\n",
              "    }\n",
              "\n",
              "    .colab-df-convert {\n",
              "      background-color: #E8F0FE;\n",
              "      border: none;\n",
              "      border-radius: 50%;\n",
              "      cursor: pointer;\n",
              "      display: none;\n",
              "      fill: #1967D2;\n",
              "      height: 32px;\n",
              "      padding: 0 0 0 0;\n",
              "      width: 32px;\n",
              "    }\n",
              "\n",
              "    .colab-df-convert:hover {\n",
              "      background-color: #E2EBFA;\n",
              "      box-shadow: 0px 1px 2px rgba(60, 64, 67, 0.3), 0px 1px 3px 1px rgba(60, 64, 67, 0.15);\n",
              "      fill: #174EA6;\n",
              "    }\n",
              "\n",
              "    [theme=dark] .colab-df-convert {\n",
              "      background-color: #3B4455;\n",
              "      fill: #D2E3FC;\n",
              "    }\n",
              "\n",
              "    [theme=dark] .colab-df-convert:hover {\n",
              "      background-color: #434B5C;\n",
              "      box-shadow: 0px 1px 3px 1px rgba(0, 0, 0, 0.15);\n",
              "      filter: drop-shadow(0px 1px 2px rgba(0, 0, 0, 0.3));\n",
              "      fill: #FFFFFF;\n",
              "    }\n",
              "  </style>\n",
              "\n",
              "      <script>\n",
              "        const buttonEl =\n",
              "          document.querySelector('#df-68e3a697-3944-4637-a75a-8e3f0a8b9bd3 button.colab-df-convert');\n",
              "        buttonEl.style.display =\n",
              "          google.colab.kernel.accessAllowed ? 'block' : 'none';\n",
              "\n",
              "        async function convertToInteractive(key) {\n",
              "          const element = document.querySelector('#df-68e3a697-3944-4637-a75a-8e3f0a8b9bd3');\n",
              "          const dataTable =\n",
              "            await google.colab.kernel.invokeFunction('convertToInteractive',\n",
              "                                                     [key], {});\n",
              "          if (!dataTable) return;\n",
              "\n",
              "          const docLinkHtml = 'Like what you see? Visit the ' +\n",
              "            '<a target=\"_blank\" href=https://colab.research.google.com/notebooks/data_table.ipynb>data table notebook</a>'\n",
              "            + ' to learn more about interactive tables.';\n",
              "          element.innerHTML = '';\n",
              "          dataTable['output_type'] = 'display_data';\n",
              "          await google.colab.output.renderOutput(dataTable, element);\n",
              "          const docLink = document.createElement('div');\n",
              "          docLink.innerHTML = docLinkHtml;\n",
              "          element.appendChild(docLink);\n",
              "        }\n",
              "      </script>\n",
              "    </div>\n",
              "  </div>\n",
              "  "
            ]
          },
          "metadata": {},
          "execution_count": 5
        }
      ],
      "source": [
        "csv = 'clean_article.csv'\n",
        "my_df = pd.read_csv(csv,index_col=0)\n",
        "my_df.head()"
      ]
    },
    {
      "cell_type": "code",
      "execution_count": 6,
      "metadata": {
        "colab": {
          "base_uri": "https://localhost:8080/"
        },
        "id": "F6yHM7irFgUO",
        "outputId": "00479dc7-a2db-46a8-c023-06f12ddb1e99"
      },
      "outputs": [
        {
          "output_type": "stream",
          "name": "stdout",
          "text": [
            "<class 'pandas.core.frame.DataFrame'>\n",
            "RangeIndex: 2329 entries, 0 to 2328\n",
            "Data columns (total 3 columns):\n",
            " #   Column   Non-Null Count  Dtype \n",
            "---  ------   --------------  ----- \n",
            " 0   article  2329 non-null   object\n",
            " 1   target   2329 non-null   int64 \n",
            " 2   length   2329 non-null   int64 \n",
            "dtypes: int64(2), object(1)\n",
            "memory usage: 54.7+ KB\n"
          ]
        }
      ],
      "source": [
        "my_df.dropna(inplace=True)\n",
        "my_df.reset_index(drop=True,inplace=True)\n",
        "my_df.info()"
      ]
    },
    {
      "cell_type": "code",
      "execution_count": 7,
      "metadata": {
        "collapsed": true,
        "id": "7xjZ8Bu4FgUO"
      },
      "outputs": [],
      "source": [
        "x = my_df.article\n",
        "y = my_df.target"
      ]
    },
    {
      "cell_type": "code",
      "execution_count": 8,
      "metadata": {
        "collapsed": true,
        "id": "mPUYEoi8FgUO"
      },
      "outputs": [],
      "source": [
        "from sklearn.model_selection import train_test_split\n",
        "SEED = 2000\n",
        "x_train, x_validation_and_test, y_train, y_validation_and_test = train_test_split(x, y, test_size=.2, random_state=SEED)\n",
        "x_validation, x_test, y_validation, y_test = train_test_split(x_validation_and_test, y_validation_and_test, test_size=.5, random_state=SEED)"
      ]
    },
    {
      "cell_type": "code",
      "execution_count": 9,
      "metadata": {
        "colab": {
          "base_uri": "https://localhost:8080/"
        },
        "id": "s8a28PasFgUP",
        "outputId": "7b0ba0f0-34df-4c2e-ce8d-a5ab31606337"
      },
      "outputs": [
        {
          "output_type": "stream",
          "name": "stdout",
          "text": [
            "Train set has total 1863 entries with 42.78% negative, 57.22% positive\n",
            "Validation set has total 233 entries with 45.06% negative, 54.94% positive\n",
            "Test set has total 233 entries with 41.63% negative, 58.37% positive\n"
          ]
        }
      ],
      "source": [
        "print(\"Train set has total {0} entries with {1:.2f}% negative, {2:.2f}% positive\".format(len(x_train),\n",
        "                                                                             (len(x_train[y_train == 0]) / (len(x_train)*1.))*100,\n",
        "                                                                            (len(x_train[y_train == 1]) / (len(x_train)*1.))*100))\n",
        "print(\"Validation set has total {0} entries with {1:.2f}% negative, {2:.2f}% positive\".format(len(x_validation),\n",
        "                                                                             (len(x_validation[y_validation == 0]) / (len(x_validation)*1.))*100,\n",
        "                                                                            (len(x_validation[y_validation == 1]) / (len(x_validation)*1.))*100))\n",
        "print(\"Test set has total {0} entries with {1:.2f}% negative, {2:.2f}% positive\".format(len(x_test),\n",
        "                                                                             (len(x_test[y_test == 0]) / (len(x_test)*1.))*100,\n",
        "                                                                            (len(x_test[y_test == 1]) / (len(x_test)*1.))*100))"
      ]
    },
    {
      "cell_type": "code",
      "execution_count": 10,
      "metadata": {
        "collapsed": true,
        "id": "osuWmyjYFgUP"
      },
      "outputs": [],
      "source": [
        "from tqdm import tqdm\n",
        "tqdm.pandas(desc=\"progress-bar\")\n",
        "import gensim\n",
        "from gensim.models.word2vec import Word2Vec\n",
        "from gensim.models.doc2vec import TaggedDocument\n",
        "import multiprocessing\n",
        "from sklearn import utils"
      ]
    },
    {
      "cell_type": "code",
      "execution_count": 8,
      "metadata": {
        "collapsed": true,
        "id": "DxNkC8MAFgUP"
      },
      "outputs": [],
      "source": [
        "def labelize_article_ug(article,label):\n",
        "    result = []\n",
        "    prefix = label\n",
        "    for i, t in zip(article.index, article):\n",
        "        result.append(TaggedDocument(t.split(), [prefix + '_%s' % i]))\n",
        "    return result"
      ]
    },
    {
      "cell_type": "code",
      "execution_count": 9,
      "metadata": {
        "collapsed": true,
        "id": "TN2snZ-8FgUQ"
      },
      "outputs": [],
      "source": [
        "all_x = pd.concat([x_train,x_validation,x_test])\n",
        "all_x_w2v = labelize_article_ug(all_x, 'all')"
      ]
    },
    {
      "cell_type": "code",
      "execution_count": 17,
      "metadata": {
        "colab": {
          "base_uri": "https://localhost:8080/"
        },
        "id": "J4tB5_7QFgUQ",
        "outputId": "b0568df1-69da-4b35-909b-162801cdae80"
      },
      "outputs": [
        {
          "output_type": "stream",
          "name": "stderr",
          "text": [
            "100%|██████████| 2329/2329 [00:00<00:00, 986720.61it/s]\n"
          ]
        }
      ],
      "source": [
        "cores = multiprocessing.cpu_count()\n",
        "model_ug_cbow = Word2Vec(sg=0, size=100, negative=5, window=2, min_count=2, workers=cores, alpha=0.065, min_alpha=0.065)\n",
        "model_ug_cbow.build_vocab([x.words for x in tqdm(all_x_w2v)])"
      ]
    },
    {
      "cell_type": "code",
      "execution_count": 18,
      "metadata": {
        "colab": {
          "base_uri": "https://localhost:8080/"
        },
        "id": "t0OHsZ7oFgUQ",
        "outputId": "ed2e6c88-81d4-4662-efe4-0f2b6054a1a2"
      },
      "outputs": [
        {
          "output_type": "stream",
          "name": "stderr",
          "text": [
            "100%|██████████| 2329/2329 [00:00<00:00, 294250.68it/s]\n",
            "100%|██████████| 2329/2329 [00:00<00:00, 876809.44it/s]\n",
            "100%|██████████| 2329/2329 [00:00<00:00, 490142.20it/s]\n",
            "100%|██████████| 2329/2329 [00:00<00:00, 358465.16it/s]\n",
            "100%|██████████| 2329/2329 [00:00<00:00, 454731.12it/s]\n",
            "100%|██████████| 2329/2329 [00:00<00:00, 1464767.43it/s]\n",
            "100%|██████████| 2329/2329 [00:00<00:00, 856363.11it/s]\n",
            "100%|██████████| 2329/2329 [00:00<00:00, 939462.78it/s]\n",
            "100%|██████████| 2329/2329 [00:00<00:00, 762154.48it/s]\n",
            "100%|██████████| 2329/2329 [00:00<00:00, 1152901.45it/s]\n",
            "100%|██████████| 2329/2329 [00:00<00:00, 646879.94it/s]\n",
            "100%|██████████| 2329/2329 [00:00<00:00, 473534.05it/s]\n",
            "100%|██████████| 2329/2329 [00:00<00:00, 1416756.20it/s]\n",
            "100%|██████████| 2329/2329 [00:00<00:00, 632185.74it/s]\n",
            "100%|██████████| 2329/2329 [00:00<00:00, 445461.90it/s]\n",
            "100%|██████████| 2329/2329 [00:00<00:00, 851882.27it/s]\n",
            "100%|██████████| 2329/2329 [00:00<00:00, 808854.35it/s]\n",
            "100%|██████████| 2329/2329 [00:00<00:00, 595098.02it/s]\n",
            "100%|██████████| 2329/2329 [00:00<00:00, 871101.66it/s]\n",
            "100%|██████████| 2329/2329 [00:00<00:00, 852402.62it/s]\n",
            "100%|██████████| 2329/2329 [00:00<00:00, 1389747.33it/s]\n",
            "100%|██████████| 2329/2329 [00:00<00:00, 551209.46it/s]\n",
            "100%|██████████| 2329/2329 [00:00<00:00, 1416550.76it/s]\n",
            "100%|██████████| 2329/2329 [00:00<00:00, 357913.53it/s]\n",
            "100%|██████████| 2329/2329 [00:00<00:00, 922778.58it/s]\n",
            "100%|██████████| 2329/2329 [00:00<00:00, 693935.78it/s]\n",
            "100%|██████████| 2329/2329 [00:00<00:00, 651452.75it/s]\n",
            "100%|██████████| 2329/2329 [00:00<00:00, 995874.61it/s]\n",
            "100%|██████████| 2329/2329 [00:00<00:00, 899662.37it/s]\n",
            "100%|██████████| 2329/2329 [00:00<00:00, 672208.51it/s]\n"
          ]
        },
        {
          "output_type": "stream",
          "name": "stdout",
          "text": [
            "CPU times: user 49.9 s, sys: 313 ms, total: 50.2 s\n",
            "Wall time: 27.1 s\n"
          ]
        }
      ],
      "source": [
        "%%time\n",
        "for epoch in range(30):\n",
        "    model_ug_cbow.train(utils.shuffle([x.words for x in tqdm(all_x_w2v)]), total_examples=len(all_x_w2v), epochs=1)\n",
        "    model_ug_cbow.alpha -= 0.002\n",
        "    model_ug_cbow.min_alpha = model_ug_cbow.alpha"
      ]
    },
    {
      "cell_type": "code",
      "execution_count": 19,
      "metadata": {
        "colab": {
          "base_uri": "https://localhost:8080/"
        },
        "id": "ym_zvaO0FgUQ",
        "outputId": "0c5be33a-4407-4b27-d56a-388f03e8191f"
      },
      "outputs": [
        {
          "output_type": "stream",
          "name": "stderr",
          "text": [
            "100%|██████████| 2329/2329 [00:00<00:00, 1059493.93it/s]\n"
          ]
        }
      ],
      "source": [
        "model_ug_sg = Word2Vec(sg=1, size=100, negative=5, window=2, min_count=2, workers=cores, alpha=0.065, min_alpha=0.065)\n",
        "model_ug_sg.build_vocab([x.words for x in tqdm(all_x_w2v)])"
      ]
    },
    {
      "cell_type": "code",
      "execution_count": 20,
      "metadata": {
        "colab": {
          "base_uri": "https://localhost:8080/"
        },
        "id": "RE7qoDo9FgUR",
        "outputId": "eace5053-9728-4a33-cef8-ed6ce01315d1"
      },
      "outputs": [
        {
          "output_type": "stream",
          "name": "stderr",
          "text": [
            "100%|██████████| 2329/2329 [00:00<00:00, 1121144.73it/s]\n",
            "100%|██████████| 2329/2329 [00:00<00:00, 426853.14it/s]\n",
            "100%|██████████| 2329/2329 [00:00<00:00, 990422.19it/s]\n",
            "100%|██████████| 2329/2329 [00:00<00:00, 871645.76it/s]\n",
            "100%|██████████| 2329/2329 [00:00<00:00, 853296.12it/s]\n",
            "100%|██████████| 2329/2329 [00:00<00:00, 1433387.24it/s]\n",
            "100%|██████████| 2329/2329 [00:00<00:00, 617636.19it/s]\n",
            "100%|██████████| 2329/2329 [00:00<00:00, 975098.22it/s]\n",
            "100%|██████████| 2329/2329 [00:00<00:00, 518142.15it/s]\n",
            "100%|██████████| 2329/2329 [00:00<00:00, 910309.76it/s]\n",
            "100%|██████████| 2329/2329 [00:00<00:00, 657813.74it/s]\n",
            "100%|██████████| 2329/2329 [00:00<00:00, 937299.37it/s]\n",
            "100%|██████████| 2329/2329 [00:00<00:00, 1447833.71it/s]\n",
            "100%|██████████| 2329/2329 [00:00<00:00, 569096.07it/s]\n",
            "100%|██████████| 2329/2329 [00:00<00:00, 801093.49it/s]\n",
            "100%|██████████| 2329/2329 [00:00<00:00, 953492.83it/s]\n",
            "100%|██████████| 2329/2329 [00:00<00:00, 558904.57it/s]\n",
            "100%|██████████| 2329/2329 [00:00<00:00, 797496.45it/s]\n",
            "100%|██████████| 2329/2329 [00:00<00:00, 861119.01it/s]\n",
            "100%|██████████| 2329/2329 [00:00<00:00, 819714.19it/s]\n",
            "100%|██████████| 2329/2329 [00:00<00:00, 659501.35it/s]\n",
            "100%|██████████| 2329/2329 [00:00<00:00, 940638.81it/s]\n",
            "100%|██████████| 2329/2329 [00:00<00:00, 476351.20it/s]\n",
            "100%|██████████| 2329/2329 [00:00<00:00, 700253.33it/s]\n",
            "100%|██████████| 2329/2329 [00:00<00:00, 488793.30it/s]\n",
            "100%|██████████| 2329/2329 [00:00<00:00, 672116.00it/s]\n",
            "100%|██████████| 2329/2329 [00:00<00:00, 674669.11it/s]\n",
            "100%|██████████| 2329/2329 [00:00<00:00, 1327066.16it/s]\n",
            "100%|██████████| 2329/2329 [00:00<00:00, 669811.71it/s]\n",
            "100%|██████████| 2329/2329 [00:00<00:00, 1434650.32it/s]\n"
          ]
        },
        {
          "output_type": "stream",
          "name": "stdout",
          "text": [
            "CPU times: user 1min 47s, sys: 463 ms, total: 1min 47s\n",
            "Wall time: 59.5 s\n"
          ]
        }
      ],
      "source": [
        "%%time\n",
        "for epoch in range(30):\n",
        "    model_ug_sg.train(utils.shuffle([x.words for x in tqdm(all_x_w2v)]), total_examples=len(all_x_w2v), epochs=1)\n",
        "    model_ug_sg.alpha -= 0.002\n",
        "    model_ug_sg.min_alpha = model_ug_sg.alpha"
      ]
    },
    {
      "cell_type": "code",
      "execution_count": 21,
      "metadata": {
        "collapsed": true,
        "id": "Ns4ll5tzFgUR"
      },
      "outputs": [],
      "source": [
        "model_ug_cbow.save('w2v_model_ug_cbow.word2vec')\n",
        "model_ug_sg.save('w2v_model_ug_sg.word2vec')"
      ]
    },
    {
      "cell_type": "markdown",
      "metadata": {
        "id": "dczsjBNxFgUR"
      },
      "source": [
        "# Prepration for Convolutional Neural Network"
      ]
    },
    {
      "cell_type": "markdown",
      "metadata": {
        "id": "byNGisv5FgUS"
      },
      "source": [
        "So far, we have aggregated the word vectors of each word in an article, either summation or calculating mean to get one vector representation of each article. However, in order to feed to a CNN, we have to not only feed each word vector to the model, but also in a sequence which matches the original tweet."
      ]
    },
    {
      "cell_type": "markdown",
      "metadata": {
        "id": "o2bQXpFnFgUT"
      },
      "source": [
        "A neural network model will expect all the data to have the same dimension, but in case of different sentences, they will have different lengths. This can be handled with padding."
      ]
    },
    {
      "cell_type": "markdown",
      "metadata": {
        "id": "IpWfMnm_FgUT"
      },
      "source": [
        "Let's first load the Word2Vec models to extract word vectors from. this can easily be loaded with \"KeyedVectors\" function in Gensim. We have two different Word2Vec models, one with CBOW (Continuous Bag Of Words) model, and the other with a skip-gram model."
      ]
    },
    {
      "cell_type": "code",
      "execution_count": 22,
      "metadata": {
        "collapsed": true,
        "id": "IO3tpqSMFgUT"
      },
      "outputs": [],
      "source": [
        "from gensim.models import KeyedVectors\n",
        "model_ug_cbow = KeyedVectors.load('w2v_model_ug_cbow.word2vec')\n",
        "model_ug_sg = KeyedVectors.load('w2v_model_ug_sg.word2vec')"
      ]
    },
    {
      "cell_type": "code",
      "execution_count": 23,
      "metadata": {
        "colab": {
          "base_uri": "https://localhost:8080/"
        },
        "id": "hKAfwdA_FgUU",
        "outputId": "e4359a14-f908-48b7-844b-eb202238bbf6"
      },
      "outputs": [
        {
          "output_type": "execute_result",
          "data": {
            "text/plain": [
              "13647"
            ]
          },
          "metadata": {},
          "execution_count": 23
        }
      ],
      "source": [
        "len(model_ug_cbow.wv.vocab.keys())"
      ]
    },
    {
      "cell_type": "markdown",
      "metadata": {
        "id": "5ml22xBAFgUU"
      },
      "source": [
        "By running below code block, we are constructing a sort of dictionary I can extract the word vectors from. Since I have two different Word2Vec models, below \"embedding_index\" will have concatenated vectors of the two models. For each model, I have 100 dimension vector representation of the words, and by concatenating each word will have 200 dimension vector representation."
      ]
    },
    {
      "cell_type": "code",
      "execution_count": 24,
      "metadata": {
        "colab": {
          "base_uri": "https://localhost:8080/"
        },
        "id": "6j40pCZEFgUU",
        "outputId": "fe7b9efb-1583-472b-8dfd-5de3c885978a"
      },
      "outputs": [
        {
          "output_type": "stream",
          "name": "stdout",
          "text": [
            "Found 13647 word vectors.\n"
          ]
        }
      ],
      "source": [
        "embeddings_index = {}\n",
        "for w in model_ug_cbow.wv.vocab.keys():\n",
        "    embeddings_index[w] = np.append(model_ug_cbow.wv[w],model_ug_sg.wv[w])\n",
        "print('Found %s word vectors.' % len(embeddings_index))"
      ]
    },
    {
      "cell_type": "markdown",
      "metadata": {
        "id": "qGREFFzcFgUU"
      },
      "source": [
        "Now we have our reference to word vectors ready, but we still haven't prepared data to be in the format. Keras' 'Tokenizer' will split each word in a sentence, then we can call 'texts_to_sequences' method to get the sequential representation of each sentence. We also need to pass 'num_words' which is a number of vocabularies you want to use, and this will be applied when you call 'texts_to_sequences' method. This might be a bit counter-intuitive since if you check the length of all the word index, it will not be the number of words you defined, but the actual screening process happens when you call 'texts_to_sequences' method."
      ]
    },
    {
      "cell_type": "code",
      "execution_count": 25,
      "metadata": {
        "collapsed": true,
        "id": "Nh7a9DeYFgUU"
      },
      "outputs": [],
      "source": [
        "from keras.preprocessing.text import Tokenizer\n",
        "from keras_preprocessing.sequence import pad_sequences\n",
        "\n",
        "tokenizer = Tokenizer(num_words=100000)\n",
        "tokenizer.fit_on_texts(x_train)\n",
        "sequences = tokenizer.texts_to_sequences(x_train)"
      ]
    },
    {
      "cell_type": "code",
      "execution_count": 26,
      "metadata": {
        "colab": {
          "base_uri": "https://localhost:8080/"
        },
        "id": "kABFWZaZFgUU",
        "outputId": "a23abcbc-7cda-4ae4-9fed-fc308dbb0bcc"
      },
      "outputs": [
        {
          "output_type": "execute_result",
          "data": {
            "text/plain": [
              "19065"
            ]
          },
          "metadata": {},
          "execution_count": 26
        }
      ],
      "source": [
        "len(tokenizer.word_index)"
      ]
    },
    {
      "cell_type": "markdown",
      "metadata": {
        "id": "T_ZLr757FgUU"
      },
      "source": [
        "Below are the first five entries of the original train data."
      ]
    },
    {
      "cell_type": "code",
      "execution_count": 27,
      "metadata": {
        "colab": {
          "base_uri": "https://localhost:8080/"
        },
        "id": "00swOefbFgUV",
        "outputId": "f5970136-957c-416c-9f3b-03c0d4184863"
      },
      "outputs": [
        {
          "output_type": "stream",
          "name": "stdout",
          "text": [
            "karachi banking profits declined substantially in july september according to the quarterly compendium issued by the state bank of pakistan sbp on wednesday experts said the decline was mainly due to major cut in habib bank bottom line as it paid heavy penalty to the us banking regulator banks earned total profit of rs billion in january september as opposed to rs bn year ago they earned just rs bn in july september against earnings of rs bn in april june sbp data showed banking profits declined because habib bank had to pay about rs bn as penalty to the us regulator and this outflow has been adjusted in the third quarter said samiullah tariq director of research at arif habib ltd habib bank announced in the first week of september that it would pay million to the us regulator and surrendered the licence to carry out banking business in the united states total assets of the banking industry increased to trillion at the end of september from rs tr on june advances dropped in the third quarter to rs tr from rs tr at the end of june however outstanding advances were higher than rs tr recorded at the end of september advances at the end of the third quarter are always lower than those at the end of the preceding quarter due to seasonal loans mr tariq said advances will rise in the next three months he said adding that the banking industry has been flourishing due to increased economic activities some politicians are painting gloomy picture of the economy due to uncertainty on the political front but researchers and analysts foresee economic growth the sbp predicted in recent report that the country would witness pc growth rate highest since researchers said the private sector credit off take has increased at much faster pace than year ago banks would record higher profits next year as result of enhanced lending to the private sector for the first time in years banks lending to the private sector jumped to rs bn in higher economic activities are usually connected with the china pakistan economic corridor cpec but data from many large scale manufacturing segments indicates that non cpec sectors of the economy are also registering growth\n",
            "kuala lumpur malaysian palm oil futures rose to their highest level in over week on thursday evening on expectations of soyoil gains despite the earlier release of bearish industry data the benchmark palm oil contract for october delivery on the bursa malaysia derivatives exchange was up per cent to ringgit on thursday evening it earlier climbed to an intraday high of ringgit its highest level since august traded volumes stood at lots of tonnes each at the close of trade the market could be up on overseas strength and in anticipation of bullish us department of agriculture reports which could announce trimming in soy crops and yields in report tonight said kuala lumpur based futures trader another trader added that the market had earlier forecast drop in prices due to bearish data reports from the malaysian palm oil board malaysia palm oil stocks at end july rose pc to million tonnes from the previous month versus reuters poll which forecast pc rise in inventory levels official data also showed july output rising pc to tonnes compared with forecast for pc gain to tonnes\n",
            "karachi stocks continued their northbound journey for the sixth consecutive session on thursday with the kse index adding points per cent to close at the upsurge in stock prices during the week has provided investors with big relief the index recovered points pc in the last three sessions the gain reduces the full year loss to points pc arif habib ltd ceo shahid ali habib asserted that the triggers that sparked the rally included decrease in the noise on the political front and the appointment of miftah ismail as adviser to the premier on finance revenue and economic affairs mr habib also believed that the stalled depreciation of the rupee offered comfort to investors elixir securities stated that the market exhibited choppy behaviour until midday with the index succumbing to mild intraday profit taking later on institutional buying in blue chip stocks pushed the index higher js global noted that the intraday high was points while the low was points the brokerage reckoned that investors sentiments received boost from reports relating to the central bank expression of optimism that the current account deficit might be contained to manageable limit cements extended their rally as bottom fishing continued lucky cement went up pc khan cement pc pioneer cement pc cherat cement pc and dewan cement pc major gainers on thursday included mcb bank united bank lucky cement khan cement and fauji cement which together added points engro polymer announced its board had approved capital expenditure of rs billion for the addition of pvc plant and the vcm plant debottlenecking\n",
            "islamabad the asian development bank adb has proposed the creation of national green financing vehicles to catalyse environmentally and financially sustainable infrastructure investments in asia and the pacific in report released on tuesday the adb highlighted the constraints for developing large pipeline of bankable green infrastructure projects and called for an integrated approach to transforming country financial systems the report titled catalysing green finance concept for leveraging blended finance for green deve lopment outlined the concept of green finance catalysing facility gfcf having life of twenty years which would serve as model for countries to create their own financing vehicles and implementing mechanisms this would leverage public funds and policies to catalyse blend of financing from private sources for increasing green infrastructure investments mobilising additional funds from the capital markets is major objective of these vehicles public funds would be used as risk mitigators to create bankable projects and crowd in private funds technology and efficiency improvements extreme weather induced disasters in the asia and pacific region resulted in about billion of losses from to an estimated million to deaths every year projected for attributed to carbon intensive energy practices and corresponding health impacts an additional annual expected deaths from climate change these are some of the very visible results of unsustainable development and growth patterns over decades which have eroded the planet natural capital air land and water resources to tipping point of scarcity pollution and increased inaccessibility lives and livelihoods in the asia and pacific region are particularly vulnerable with rapid economic growth changing consumption impacts massive population growth and rapid urbanisation trends climate change impacts here are estimated to have higher cost than global averages with already visible shortages of water resources and air pollution and of the world most severely polluted megacities can be found in this region gfcf nature as facility rather than fund would enable holistic approach to green finance through raising private funds not just for projects but also at the portfolio level providing project development and structuring support and establishing financing mechanism which links financial incentives with green targets leveraging credit ratings and capital markets access paradigm shift in infrastructure planning and design is an imperative for dynamically changing asia the choice that asia makes in bridging infrastructure gaps will have profound implications for its people and the planet said bambang susantono adb vice president for knowledge management and sustainable development the report responds directly to adb member countries need to address the persisting shortfalls in infrastructure investments estimated at over trillion annually until taking into account climate change mitigation and adaptation costs the proposed national green financing vehicles would help meet these needs while ensuring the best use and conservation of scarce natural resources greening all investments especially the most crucial infrastructure investments is particularly challenging issue given the estimated trn infrastructure financing needs in developing asia from to including climate mitigation and adaptation costs on the other hand the global de mand for implementing the sustainable development goals is already at high trn to trn per annum with trn annual financing gap in developing countries for key infrastructure sectors and related areas which means that there will be competing demand for global finance flows green finance covers much bigger scope than climate finance and includes all financing instruments and investment decisions that are geared towards low carbon sustainable and inclusive development the private sector regarded as critical contributor to meeting the region development financing needs would have to contribute over fifty per cent of required green investments in many countries the report is targeted at government and private sector professionals and informs country specific structures that can assist in stren thening green growth initiati ves while allowing countries to re duce their national level fiscal burden\n",
            "according to the weekly statement of position of all scheduled banks for the week ended september deposits and other accounts of all scheduled banks stood at rs bn after pc increase over the preceding week figure of rs bn compared with last year corresponding figure of rs bn the current week figure was higher by pc deposits and other accounts of all commercial banks stood at rs bn against preceding week deposits of rs bn showing rise of pc total assets of all scheduled banks stood at rs bn higher by pc over preceding week figure of rs bn current week figure is higher by pc compared to last year corresponding figure of rs bn total assets of all commercial banks stood at rs bn higher by pc over previous week figure of rs bn gross advances of all scheduled banks stood at rs bn higher by pc over the preceding week figure of bn compared with last year corresponding figure of rs bn current week figure is higher by pc advances by all commercial banks increased to rs bn from previous week rs bn indicating rise of pc borrowings by all scheduled banks decreased in the week under review it fell by pc to rs bn against previous week rs bn compared to last year corresponding figure of rs bn current week figure is higher by pc borrowings by commercial banks in the week at rs bn were lower by pc against previous week rs bn investments of all scheduled banks stood at rs bn against preceding week figure of rs bn showing decline of pc compared to last year corresponding figure of rs bn current week figure is higher by pc published in dawn the business and finance weekly october rd\n"
          ]
        }
      ],
      "source": [
        "for x in x_train[:5]:\n",
        "    print(x)"
      ]
    },
    {
      "cell_type": "markdown",
      "metadata": {
        "id": "q1gE06yzFgUV"
      },
      "source": [
        "And the same data prepared as sequential data is as below."
      ]
    },
    {
      "cell_type": "code",
      "execution_count": null,
      "metadata": {
        "id": "_f1SfioyFgUV"
      },
      "outputs": [],
      "source": [
        "sequences[:5]"
      ]
    },
    {
      "cell_type": "markdown",
      "metadata": {
        "id": "-aboaNYeFgUV"
      },
      "source": [
        "Each word is represented as a number, and we can see that the number of words in each sentence is matching the length of numbers in the \"sequences\". We can later make connections of which word each number represents. But we still didn't pad our data, so each sentence has varying length. Let's deal with this."
      ]
    },
    {
      "cell_type": "code",
      "execution_count": 29,
      "metadata": {
        "collapsed": true,
        "id": "l2InafzPFgUV"
      },
      "outputs": [],
      "source": [
        "length = []\n",
        "for x in x_train:\n",
        "    length.append(len(x.split()))"
      ]
    },
    {
      "cell_type": "code",
      "execution_count": 30,
      "metadata": {
        "colab": {
          "base_uri": "https://localhost:8080/"
        },
        "id": "EtzXuKzaFgUV",
        "outputId": "0f9c0df3-ea94-48eb-9016-20a8fe3a6817"
      },
      "outputs": [
        {
          "output_type": "execute_result",
          "data": {
            "text/plain": [
              "1267"
            ]
          },
          "metadata": {},
          "execution_count": 30
        }
      ],
      "source": [
        "max(length)"
      ]
    },
    {
      "cell_type": "markdown",
      "metadata": {
        "id": "VNVHQKVpFgUV"
      },
      "source": [
        "The maximum number of words in a sentence within the training data is 1267. Let's decide the maximum length to be a bit longer than this, let's say 1500."
      ]
    },
    {
      "cell_type": "code",
      "execution_count": 31,
      "metadata": {
        "colab": {
          "base_uri": "https://localhost:8080/"
        },
        "id": "ffqxH7hcFgUV",
        "outputId": "c301d569-db63-4138-ae78-7776d7a4b296"
      },
      "outputs": [
        {
          "output_type": "stream",
          "name": "stdout",
          "text": [
            "Shape of data tensor: (1863, 1500)\n"
          ]
        }
      ],
      "source": [
        "x_train_seq = pad_sequences(sequences, maxlen=1500)\n",
        "print('Shape of data tensor:', x_train_seq.shape)"
      ]
    },
    {
      "cell_type": "code",
      "execution_count": 32,
      "metadata": {
        "colab": {
          "base_uri": "https://localhost:8080/"
        },
        "id": "X9FyTbVQFgUW",
        "outputId": "8d8e05ac-de98-44bf-a7ee-e28e23d32af3"
      },
      "outputs": [
        {
          "output_type": "execute_result",
          "data": {
            "text/plain": [
              "array([[   0,    0,    0, ...,   34, 2861,   56],\n",
              "       [   0,    0,    0, ...,  746,    3,  103],\n",
              "       [   0,    0,    0, ..., 9844,  462, 7292],\n",
              "       [   0,    0,    0, ...,  182,  130, 2145],\n",
              "       [   0,    0,    0, ...,  293,  390, 1997]], dtype=int32)"
            ]
          },
          "metadata": {},
          "execution_count": 32
        }
      ],
      "source": [
        "x_train_seq[:5]"
      ]
    },
    {
      "cell_type": "markdown",
      "metadata": {
        "id": "-tW5E6RgFgUW"
      },
      "source": [
        "As you can see from the padded sequences, all the data now transformed to have the same length of 1500, and by default, Keras zero-pads at the beginning, if a sentence length is shorter than the maximum length. If you want to know more in detail, please check the Keras documentation on sequence preprocessing. https://keras.io/preprocessing/sequence/"
      ]
    },
    {
      "cell_type": "code",
      "execution_count": 33,
      "metadata": {
        "collapsed": true,
        "id": "Fcl8VxFuFgUW"
      },
      "outputs": [],
      "source": [
        "sequences_val = tokenizer.texts_to_sequences(x_validation)\n",
        "x_val_seq = pad_sequences(sequences_val, maxlen=1500)"
      ]
    },
    {
      "cell_type": "markdown",
      "metadata": {
        "id": "Yb4recHgFgUW"
      },
      "source": [
        "There's still one more thing left to do before we can feed the sequential text data to a model. When we transformed a sentence into a sequence, each word is represented by an integer number. Actually, these numbers are where each word is stored in the tokenizer's word index. Keeping this in mind, let's build a matrix of these word vectors, but this time we will use the word index number so that our model can refer to the corresponding vector when fed with integer sequence."
      ]
    },
    {
      "cell_type": "markdown",
      "metadata": {
        "id": "vZygCBKFFgUW"
      },
      "source": [
        "Below, I am defining the number of words to be 100,000. This means I will only care about 100,000 most frequent words in the training set. If I don't limit the number of words, the total number of vocabulary will be more than 200,000."
      ]
    },
    {
      "cell_type": "code",
      "execution_count": 34,
      "metadata": {
        "collapsed": true,
        "id": "bQ-gjVepFgUW"
      },
      "outputs": [],
      "source": [
        "num_words = 100000\n",
        "embedding_matrix = np.zeros((num_words, 200))\n",
        "for word, i in tokenizer.word_index.items():\n",
        "    if i >= num_words:\n",
        "        continue\n",
        "    embedding_vector = embeddings_index.get(word)\n",
        "    if embedding_vector is not None:\n",
        "        embedding_matrix[i] = embedding_vector"
      ]
    },
    {
      "cell_type": "markdown",
      "metadata": {
        "id": "0UPgUzkmFgUW"
      },
      "source": [
        "As a sanity check, if the embedding matrix has been generated properly. In the above, when we saw the first five entries of the training set, the first entry ended with  \"growth\", and the sequential representation of this was [55 , ...., 56]. Let's see if 56th embedding matrix is as same as vectors for the word 'growth'."
      ]
    },
    {
      "cell_type": "code",
      "execution_count": 35,
      "metadata": {
        "colab": {
          "base_uri": "https://localhost:8080/"
        },
        "id": "yJeP_giqFgUW",
        "outputId": "3bea3fb6-2e5d-4176-fa76-ba96d4ec4b81"
      },
      "outputs": [
        {
          "output_type": "execute_result",
          "data": {
            "text/plain": [
              "True"
            ]
          },
          "metadata": {},
          "execution_count": 35
        }
      ],
      "source": [
        "np.array_equal(embedding_matrix[56] ,embeddings_index.get('growth'))"
      ]
    },
    {
      "cell_type": "markdown",
      "metadata": {
        "id": "WpijP-aRFgUX"
      },
      "source": [
        "Now we are ready with the data preparation. Before we jump into CNN, I would like to test one more thing (sorry for the delay). When we feed this sequential vector representation of data, we will use Embedding layer in Keras. With Embedding layer, I can either pass pre-defined embedding, which I prepared as 'embedding_matrix' above, or Embedding layer itself can learn word embeddings as the whole model trains. And another possibility is we can still feed the pre-defined embedding but make it trainable so that it will update the values of vectors as the model trains."
      ]
    },
    {
      "cell_type": "markdown",
      "metadata": {
        "id": "-3yfG_wGFgUX"
      },
      "source": [
        "In order to check which method performs better, I defined a simple shallow neural network one hidden layer. For this model structure, I will not try to refine models by tweaking parameters, since the main purpose is to implement CNN."
      ]
    },
    {
      "cell_type": "markdown",
      "metadata": {
        "id": "YWDazofMFgUX"
      },
      "source": [
        "https://machinelearningmastery.com/use-word-embedding-layers-deep-learning-keras/"
      ]
    },
    {
      "cell_type": "code",
      "execution_count": 36,
      "metadata": {
        "id": "5wZsGCCqFgUX"
      },
      "outputs": [],
      "source": [
        "seed = 7\n",
        "\n",
        "from keras.models import Sequential\n",
        "from keras.layers import Dense, Dropout\n",
        "from keras.layers import Flatten\n",
        "from keras.layers import Embedding"
      ]
    },
    {
      "cell_type": "code",
      "execution_count": 37,
      "metadata": {
        "colab": {
          "base_uri": "https://localhost:8080/"
        },
        "id": "3NOKLj4SFgUX",
        "outputId": "0a986079-43b6-4a05-ec8a-11f4ba817d64"
      },
      "outputs": [
        {
          "output_type": "stream",
          "name": "stdout",
          "text": [
            "Epoch 1/5\n",
            "59/59 - 27s - loss: 0.8733 - accuracy: 0.5862 - val_loss: 0.6929 - val_accuracy: 0.5708 - 27s/epoch - 465ms/step\n",
            "Epoch 2/5\n",
            "59/59 - 25s - loss: 0.3724 - accuracy: 0.8218 - val_loss: 0.7405 - val_accuracy: 0.5880 - 25s/epoch - 428ms/step\n",
            "Epoch 3/5\n",
            "59/59 - 26s - loss: 0.0932 - accuracy: 0.9817 - val_loss: 0.8603 - val_accuracy: 0.5923 - 26s/epoch - 444ms/step\n",
            "Epoch 4/5\n",
            "59/59 - 25s - loss: 0.0225 - accuracy: 0.9973 - val_loss: 0.9532 - val_accuracy: 0.5966 - 25s/epoch - 426ms/step\n",
            "Epoch 5/5\n",
            "59/59 - 25s - loss: 0.0175 - accuracy: 0.9973 - val_loss: 0.9928 - val_accuracy: 0.5708 - 25s/epoch - 426ms/step\n"
          ]
        },
        {
          "output_type": "execute_result",
          "data": {
            "text/plain": [
              "<keras.callbacks.History at 0x7f29bd9e8af0>"
            ]
          },
          "metadata": {},
          "execution_count": 37
        }
      ],
      "source": [
        "model_ptw2v = Sequential()\n",
        "e = Embedding(100000, 200, weights=[embedding_matrix], input_length=1500, trainable=False) #Using pre-trained Word2Vec\n",
        "model_ptw2v.add(e)\n",
        "model_ptw2v.add(Flatten())\n",
        "model_ptw2v.add(Dense(256, activation='relu'))\n",
        "model_ptw2v.add(Dense(1, activation='sigmoid'))\n",
        "model_ptw2v.compile(loss='binary_crossentropy', optimizer='adam', metrics=['accuracy'])\n",
        "model_ptw2v.fit(x_train_seq, y_train, validation_data=(x_val_seq, y_validation), epochs=5, batch_size=32, verbose=2)"
      ]
    },
    {
      "cell_type": "code",
      "execution_count": 38,
      "metadata": {
        "colab": {
          "base_uri": "https://localhost:8080/"
        },
        "id": "4Dq1o5xzFgUX",
        "outputId": "857467ef-2d99-4592-fbbd-4e966fa81c5e"
      },
      "outputs": [
        {
          "output_type": "stream",
          "name": "stdout",
          "text": [
            "Epoch 1/5\n",
            "59/59 - 59s - loss: 1.9013 - accuracy: 0.5330 - val_loss: 0.6820 - val_accuracy: 0.5579 - 59s/epoch - 1s/step\n",
            "Epoch 2/5\n",
            "59/59 - 57s - loss: 0.3647 - accuracy: 0.9050 - val_loss: 0.6587 - val_accuracy: 0.6094 - 57s/epoch - 967ms/step\n",
            "Epoch 3/5\n",
            "59/59 - 53s - loss: 0.1050 - accuracy: 0.9936 - val_loss: 0.6538 - val_accuracy: 0.6223 - 53s/epoch - 899ms/step\n",
            "Epoch 4/5\n",
            "59/59 - 55s - loss: 0.0345 - accuracy: 0.9968 - val_loss: 0.6583 - val_accuracy: 0.6652 - 55s/epoch - 931ms/step\n",
            "Epoch 5/5\n",
            "59/59 - 53s - loss: 0.0161 - accuracy: 0.9984 - val_loss: 0.6419 - val_accuracy: 0.6524 - 53s/epoch - 895ms/step\n"
          ]
        },
        {
          "output_type": "execute_result",
          "data": {
            "text/plain": [
              "<keras.callbacks.History at 0x7f2a18b99730>"
            ]
          },
          "metadata": {},
          "execution_count": 38
        }
      ],
      "source": [
        "model_ptw2v = Sequential()\n",
        "e = Embedding(100000, 200, input_length=1500) #learn word embedding from scratch\n",
        "model_ptw2v.add(e)\n",
        "model_ptw2v.add(Flatten())\n",
        "model_ptw2v.add(Dense(256, activation='relu'))\n",
        "model_ptw2v.add(Dense(1, activation='sigmoid'))\n",
        "model_ptw2v.compile(loss='binary_crossentropy', optimizer='adam', metrics=['accuracy'])\n",
        "model_ptw2v.fit(x_train_seq, y_train, validation_data=(x_val_seq, y_validation), epochs=5, batch_size=32, verbose=2)"
      ]
    },
    {
      "cell_type": "code",
      "execution_count": 39,
      "metadata": {
        "colab": {
          "base_uri": "https://localhost:8080/"
        },
        "id": "sd9ByftGFgUX",
        "outputId": "ce5cfd7b-c650-479e-e4ba-e862b281605c"
      },
      "outputs": [
        {
          "output_type": "stream",
          "name": "stdout",
          "text": [
            "Epoch 1/5\n",
            "59/59 - 61s - loss: 1.1117 - accuracy: 0.5700 - val_loss: 0.6522 - val_accuracy: 0.6309 - 61s/epoch - 1s/step\n",
            "Epoch 2/5\n",
            "59/59 - 53s - loss: 0.2464 - accuracy: 0.9147 - val_loss: 0.7800 - val_accuracy: 0.6395 - 53s/epoch - 898ms/step\n",
            "Epoch 3/5\n",
            "59/59 - 53s - loss: 0.0537 - accuracy: 0.9882 - val_loss: 0.8560 - val_accuracy: 0.6266 - 53s/epoch - 897ms/step\n",
            "Epoch 4/5\n",
            "59/59 - 59s - loss: 0.0168 - accuracy: 0.9979 - val_loss: 0.9390 - val_accuracy: 0.6266 - 59s/epoch - 992ms/step\n",
            "Epoch 5/5\n",
            "59/59 - 53s - loss: 0.0130 - accuracy: 0.9968 - val_loss: 1.0031 - val_accuracy: 0.6094 - 53s/epoch - 895ms/step\n"
          ]
        },
        {
          "output_type": "execute_result",
          "data": {
            "text/plain": [
              "<keras.callbacks.History at 0x7f2a190f99d0>"
            ]
          },
          "metadata": {},
          "execution_count": 39
        }
      ],
      "source": [
        "model_ptw2v = Sequential()\n",
        "e = Embedding(100000, 200, weights=[embedding_matrix], input_length=1500, trainable=True) #fine-tune pre-trained Word2Vec\n",
        "model_ptw2v.add(e)\n",
        "model_ptw2v.add(Flatten())\n",
        "model_ptw2v.add(Dense(256, activation='relu'))\n",
        "model_ptw2v.add(Dense(1, activation='sigmoid'))\n",
        "model_ptw2v.compile(loss='binary_crossentropy', optimizer='adam', metrics=['accuracy'])\n",
        "model_ptw2v.fit(x_train_seq, y_train, validation_data=(x_val_seq, y_validation), epochs=5, batch_size=32, verbose=2)"
      ]
    },
    {
      "cell_type": "markdown",
      "metadata": {
        "id": "53pqyjn-FgUX"
      },
      "source": [
        "As a result, the best validation accuracy is from the third method (fine-tune pre-trained Word2Vec) at 63.95%. The best training accuracy is the third method at 99.84%. Using pre-trained Word2Vec without updating its vector values showed the lowest accuracy both in training and validation. However, what's interesting is that in terms of training set accuracy, fine-tuning pre-trained word vectors couldn't outperform the word embeddings learned from scratch through the embedding layer. Before I tried the above three methods, my first guess was that if I fine-tune the pre-trained word vectors, it would give me the best training accuracy.\n",
        "\n",
        "Feeding pre-trained word vectors for an embedding layer to update is like providing the first initialisation guideline to the embedding layer so that it can learn more efficiently the task-specific word vectors. But the result is somewhat counterintuitive, and in this case, it turns out that it is better to force the embedding layer to learn from scratch.\n",
        "\n",
        "But premature generalization is a dangerous step to take. For this reason, I will compare three methods again in the context of CNN."
      ]
    },
    {
      "cell_type": "markdown",
      "metadata": {
        "id": "nInCAEbUFgUX"
      },
      "source": [
        "# Convolutional Neural Network"
      ]
    },
    {
      "cell_type": "code",
      "execution_count": 40,
      "metadata": {
        "collapsed": true,
        "id": "a5t6qukvFgUY"
      },
      "outputs": [],
      "source": [
        "from keras.layers import Conv1D, GlobalMaxPooling1D"
      ]
    },
    {
      "cell_type": "code",
      "execution_count": 41,
      "metadata": {
        "colab": {
          "base_uri": "https://localhost:8080/"
        },
        "id": "kw7HzHa3FgUY",
        "outputId": "fa58a100-587a-4499-c401-2546d3d4c6b3"
      },
      "outputs": [
        {
          "output_type": "stream",
          "name": "stdout",
          "text": [
            "Model: \"sequential_8\"\n",
            "_________________________________________________________________\n",
            " Layer (type)                Output Shape              Param #   \n",
            "=================================================================\n",
            " embedding_6 (Embedding)     (None, 1500, 200)         20000000  \n",
            "                                                                 \n",
            " conv1d_3 (Conv1D)           (None, 1499, 100)         40100     \n",
            "                                                                 \n",
            "=================================================================\n",
            "Total params: 20,040,100\n",
            "Trainable params: 20,040,100\n",
            "Non-trainable params: 0\n",
            "_________________________________________________________________\n"
          ]
        }
      ],
      "source": [
        "structure_test = Sequential()\n",
        "e = Embedding(100000, 200, input_length=1500)\n",
        "structure_test.add(e)\n",
        "structure_test.add(Conv1D(filters=100, kernel_size=2, padding='valid', activation='relu', strides=1))\n",
        "structure_test.summary()"
      ]
    },
    {
      "cell_type": "markdown",
      "metadata": {
        "id": "fYbqKllJFgUY"
      },
      "source": [
        "Now if we add Global Max Pooling layer, then the pooling layer will extract the maximum value from each filter, and the output dimension will be a just 1-dimensional vector with length as same as the number of filters we applied. This can be directly passed on to a dense layer without flattening."
      ]
    },
    {
      "cell_type": "code",
      "execution_count": 42,
      "metadata": {
        "colab": {
          "base_uri": "https://localhost:8080/"
        },
        "id": "hGQwOX8aFgUY",
        "outputId": "3d45eb1f-dedd-4a8d-8477-fa1e2ac65b42"
      },
      "outputs": [
        {
          "output_type": "stream",
          "name": "stdout",
          "text": [
            "Model: \"sequential_9\"\n",
            "_________________________________________________________________\n",
            " Layer (type)                Output Shape              Param #   \n",
            "=================================================================\n",
            " embedding_7 (Embedding)     (None, 1500, 200)         20000000  \n",
            "                                                                 \n",
            " conv1d_4 (Conv1D)           (None, 1499, 100)         40100     \n",
            "                                                                 \n",
            " global_max_pooling1d_2 (Glo  (None, 100)              0         \n",
            " balMaxPooling1D)                                                \n",
            "                                                                 \n",
            "=================================================================\n",
            "Total params: 20,040,100\n",
            "Trainable params: 20,040,100\n",
            "Non-trainable params: 0\n",
            "_________________________________________________________________\n"
          ]
        }
      ],
      "source": [
        "structure_test = Sequential()\n",
        "e = Embedding(100000, 200, input_length=1500)\n",
        "structure_test.add(e)\n",
        "structure_test.add(Conv1D(filters=100, kernel_size=2, padding='valid', activation='relu', strides=1))\n",
        "structure_test.add(GlobalMaxPooling1D())\n",
        "structure_test.summary()"
      ]
    },
    {
      "cell_type": "markdown",
      "metadata": {
        "id": "2D6ZX_kBFgUY"
      },
      "source": [
        "Now, let's define a simple CNN going through bigrams on a tweet. The output from global max pooling layer will be fed to a fully connected layer, then finally the output layer. Again I will try three different inputs, static word vectors extracted from Word2Vec, word embedding being learned from scratch with embedding layer, Word2Vec word vectors being updated through training."
      ]
    },
    {
      "cell_type": "code",
      "execution_count": 43,
      "metadata": {
        "colab": {
          "base_uri": "https://localhost:8080/"
        },
        "id": "qi6ABjGsFgUZ",
        "outputId": "ca72a2c6-9bb6-470f-996f-a38e64701909"
      },
      "outputs": [
        {
          "output_type": "stream",
          "name": "stdout",
          "text": [
            "Epoch 1/5\n",
            "59/59 - 15s - loss: 0.7064 - accuracy: 0.5577 - val_loss: 0.6566 - val_accuracy: 0.6009 - 15s/epoch - 252ms/step\n",
            "Epoch 2/5\n",
            "59/59 - 17s - loss: 0.5484 - accuracy: 0.7214 - val_loss: 0.6999 - val_accuracy: 0.6009 - 17s/epoch - 289ms/step\n",
            "Epoch 3/5\n",
            "59/59 - 14s - loss: 0.4926 - accuracy: 0.7359 - val_loss: 0.6227 - val_accuracy: 0.6609 - 14s/epoch - 236ms/step\n",
            "Epoch 4/5\n",
            "59/59 - 14s - loss: 0.3638 - accuracy: 0.8508 - val_loss: 0.6308 - val_accuracy: 0.6609 - 14s/epoch - 235ms/step\n",
            "Epoch 5/5\n",
            "59/59 - 14s - loss: 0.2563 - accuracy: 0.9179 - val_loss: 0.6648 - val_accuracy: 0.6867 - 14s/epoch - 235ms/step\n"
          ]
        },
        {
          "output_type": "execute_result",
          "data": {
            "text/plain": [
              "<keras.callbacks.History at 0x7f2a18f15460>"
            ]
          },
          "metadata": {},
          "execution_count": 43
        }
      ],
      "source": [
        "model_cnn_01 = Sequential()\n",
        "e = Embedding(100000, 200, weights=[embedding_matrix], input_length=1500, trainable=False)\n",
        "model_cnn_01.add(e)\n",
        "model_cnn_01.add(Conv1D(filters=100, kernel_size=2, padding='valid', activation='relu', strides=1))\n",
        "model_cnn_01.add(GlobalMaxPooling1D())\n",
        "model_cnn_01.add(Dense(256, activation='relu'))\n",
        "model_cnn_01.add(Dense(1, activation='sigmoid'))\n",
        "model_cnn_01.compile(loss='binary_crossentropy', optimizer='adam', metrics=['accuracy'])\n",
        "model_cnn_01.fit(x_train_seq, y_train, validation_data=(x_val_seq, y_validation), epochs=5, batch_size=32, verbose=2)"
      ]
    },
    {
      "cell_type": "code",
      "execution_count": 44,
      "metadata": {
        "colab": {
          "base_uri": "https://localhost:8080/"
        },
        "id": "FR-SAj13FgUZ",
        "outputId": "4425e6a4-465f-451e-f1d5-6b70e07911bf"
      },
      "outputs": [
        {
          "output_type": "stream",
          "name": "stdout",
          "text": [
            "Epoch 1/5\n",
            "59/59 - 37s - loss: 0.6704 - accuracy: 0.5904 - val_loss: 0.6417 - val_accuracy: 0.6567 - 37s/epoch - 629ms/step\n",
            "Epoch 2/5\n",
            "59/59 - 31s - loss: 0.5092 - accuracy: 0.7654 - val_loss: 0.5719 - val_accuracy: 0.6867 - 31s/epoch - 533ms/step\n",
            "Epoch 3/5\n",
            "59/59 - 31s - loss: 0.2276 - accuracy: 0.9265 - val_loss: 0.6063 - val_accuracy: 0.7382 - 31s/epoch - 532ms/step\n",
            "Epoch 4/5\n",
            "59/59 - 31s - loss: 0.0583 - accuracy: 0.9877 - val_loss: 0.6739 - val_accuracy: 0.7082 - 31s/epoch - 531ms/step\n",
            "Epoch 5/5\n",
            "59/59 - 31s - loss: 0.0196 - accuracy: 0.9952 - val_loss: 0.7554 - val_accuracy: 0.7210 - 31s/epoch - 529ms/step\n"
          ]
        },
        {
          "output_type": "execute_result",
          "data": {
            "text/plain": [
              "<keras.callbacks.History at 0x7f29c2c49b80>"
            ]
          },
          "metadata": {},
          "execution_count": 44
        }
      ],
      "source": [
        "model_cnn_02 = Sequential()\n",
        "e = Embedding(100000, 200, input_length=1500) #learn word embedding from scratch\n",
        "model_cnn_02.add(e)\n",
        "model_cnn_02.add(Conv1D(filters=100, kernel_size=2, padding='valid', activation='relu', strides=1))\n",
        "model_cnn_02.add(GlobalMaxPooling1D())\n",
        "model_cnn_02.add(Dense(256, activation='relu'))\n",
        "model_cnn_02.add(Dense(1, activation='sigmoid'))\n",
        "model_cnn_02.compile(loss='binary_crossentropy', optimizer='adam', metrics=['accuracy'])\n",
        "model_cnn_02.fit(x_train_seq, y_train, validation_data=(x_val_seq, y_validation), epochs=5, batch_size=32, verbose=2)"
      ]
    },
    {
      "cell_type": "code",
      "execution_count": 45,
      "metadata": {
        "colab": {
          "base_uri": "https://localhost:8080/"
        },
        "id": "G6R2ZSZgFgUZ",
        "outputId": "f25b02a6-8c66-4b25-eaf7-63359d301cd8"
      },
      "outputs": [
        {
          "output_type": "stream",
          "name": "stdout",
          "text": [
            "Epoch 1/5\n",
            "59/59 - 36s - loss: 0.6958 - accuracy: 0.5695 - val_loss: 0.6368 - val_accuracy: 0.6009 - 36s/epoch - 609ms/step\n",
            "Epoch 2/5\n",
            "59/59 - 31s - loss: 0.5115 - accuracy: 0.7590 - val_loss: 0.6519 - val_accuracy: 0.6609 - 31s/epoch - 529ms/step\n",
            "Epoch 3/5\n",
            "59/59 - 31s - loss: 0.3707 - accuracy: 0.8561 - val_loss: 0.5876 - val_accuracy: 0.7124 - 31s/epoch - 525ms/step\n",
            "Epoch 4/5\n",
            "59/59 - 32s - loss: 0.2159 - accuracy: 0.9463 - val_loss: 0.6357 - val_accuracy: 0.7039 - 32s/epoch - 550ms/step\n",
            "Epoch 5/5\n",
            "59/59 - 31s - loss: 0.1126 - accuracy: 0.9834 - val_loss: 0.6687 - val_accuracy: 0.7167 - 31s/epoch - 529ms/step\n"
          ]
        },
        {
          "output_type": "execute_result",
          "data": {
            "text/plain": [
              "<keras.callbacks.History at 0x7f29b9a96100>"
            ]
          },
          "metadata": {},
          "execution_count": 45
        }
      ],
      "source": [
        "model_cnn_03 = Sequential()\n",
        "e = Embedding(100000, 200, weights=[embedding_matrix], input_length=1500, trainable=True)\n",
        "model_cnn_03.add(e)\n",
        "model_cnn_03.add(Conv1D(filters=100, kernel_size=2, padding='valid', activation='relu', strides=1))\n",
        "model_cnn_03.add(GlobalMaxPooling1D())\n",
        "model_cnn_03.add(Dense(256, activation='relu'))\n",
        "model_cnn_03.add(Dense(1, activation='sigmoid'))\n",
        "model_cnn_03.compile(loss='binary_crossentropy', optimizer='adam', metrics=['accuracy'])\n",
        "model_cnn_03.fit(x_train_seq, y_train, validation_data=(x_val_seq, y_validation), epochs=5, batch_size=32, verbose=2)"
      ]
    },
    {
      "cell_type": "markdown",
      "metadata": {
        "id": "XPr146WfFgUZ"
      },
      "source": [
        "The best validation accuracy is from the cnn which learned word embedding from scratch, at epoch 5 with validation accuracy of 71.24%. By looking at the training loss and accuracy, it seems that cnn learned from scratch tends to overfit to the trainig data, and by passing pre-trained word vectors as weights initialisation, it somewhat more generalizes and ends up having higher validation accuracy."
      ]
    },
    {
      "cell_type": "markdown",
      "metadata": {
        "id": "SYgEP_0dFgUZ"
      },
      "source": [
        "Basically, the above structure is implementing what we have done above with bigram filters, but not only to bigrams but also to trigrams and fourgrams. However this is not linearly stacked layers, but parallel layers. And after convolutional layer and max-pooling layer, it simply concatenated max pooled result from each of bigram, trigram, and fourgram, then build one output layer on top of them.\n"
      ]
    },
    {
      "cell_type": "markdown",
      "metadata": {
        "id": "W5JXsL4yFgUZ"
      },
      "source": [
        "So far I have only used Sequential model API of Keras, and this worked fine with all the previous models I defined above since the structures of the models were only linearly stacked. For parallel layers which takes the same input but do their own computation, then the results will be merged. In this kind of neural network structure, we can use Kera functional API. https://keras.io/getting-started/functional-api-guide/\n",
        "\n",
        "Keras functional API can handle multi-input, multi-output, shared layers, shared input, etc. It is not impossible to define these types of models with Sequential API, but when you want to save the trained model, functional API enables you to simply save the model and load, but with sequential API it is difficult."
      ]
    },
    {
      "cell_type": "code",
      "execution_count": 46,
      "metadata": {
        "colab": {
          "base_uri": "https://localhost:8080/"
        },
        "id": "JxNRJuxSFgUZ",
        "outputId": "683a2e86-13b9-4db5-cad8-bf80e251aa9e"
      },
      "outputs": [
        {
          "output_type": "stream",
          "name": "stdout",
          "text": [
            "Model: \"model\"\n",
            "__________________________________________________________________________________________________\n",
            " Layer (type)                   Output Shape         Param #     Connected to                     \n",
            "==================================================================================================\n",
            " input_2 (InputLayer)           [(None, 1500)]       0           []                               \n",
            "                                                                                                  \n",
            " embedding_11 (Embedding)       (None, 1500, 200)    20000000    ['input_2[0][0]']                \n",
            "                                                                                                  \n",
            " conv1d_8 (Conv1D)              (None, 1499, 100)    40100       ['embedding_11[0][0]']           \n",
            "                                                                                                  \n",
            " conv1d_9 (Conv1D)              (None, 1498, 100)    60100       ['embedding_11[0][0]']           \n",
            "                                                                                                  \n",
            " conv1d_10 (Conv1D)             (None, 1497, 100)    80100       ['embedding_11[0][0]']           \n",
            "                                                                                                  \n",
            " global_max_pooling1d_6 (Global  (None, 100)         0           ['conv1d_8[0][0]']               \n",
            " MaxPooling1D)                                                                                    \n",
            "                                                                                                  \n",
            " global_max_pooling1d_7 (Global  (None, 100)         0           ['conv1d_9[0][0]']               \n",
            " MaxPooling1D)                                                                                    \n",
            "                                                                                                  \n",
            " global_max_pooling1d_8 (Global  (None, 100)         0           ['conv1d_10[0][0]']              \n",
            " MaxPooling1D)                                                                                    \n",
            "                                                                                                  \n",
            " concatenate (Concatenate)      (None, 300)          0           ['global_max_pooling1d_6[0][0]', \n",
            "                                                                  'global_max_pooling1d_7[0][0]', \n",
            "                                                                  'global_max_pooling1d_8[0][0]'] \n",
            "                                                                                                  \n",
            " dense_14 (Dense)               (None, 256)          77056       ['concatenate[0][0]']            \n",
            "                                                                                                  \n",
            " dropout (Dropout)              (None, 256)          0           ['dense_14[0][0]']               \n",
            "                                                                                                  \n",
            " dense_15 (Dense)               (None, 1)            257         ['dropout[0][0]']                \n",
            "                                                                                                  \n",
            " activation (Activation)        (None, 1)            0           ['dense_15[0][0]']               \n",
            "                                                                                                  \n",
            "==================================================================================================\n",
            "Total params: 20,257,613\n",
            "Trainable params: 20,257,613\n",
            "Non-trainable params: 0\n",
            "__________________________________________________________________________________________________\n"
          ]
        }
      ],
      "source": [
        "from keras.layers import Input, Dense, concatenate, Activation\n",
        "from keras.models import Model\n",
        "\n",
        "tweet_input = Input(shape=(1500,), dtype='int32')\n",
        "\n",
        "tweet_encoder = Embedding(100000, 200, weights=[embedding_matrix], input_length=45, trainable=True)(tweet_input)\n",
        "bigram_branch = Conv1D(filters=100, kernel_size=2, padding='valid', activation='relu', strides=1)(tweet_encoder)\n",
        "bigram_branch = GlobalMaxPooling1D()(bigram_branch)\n",
        "trigram_branch = Conv1D(filters=100, kernel_size=3, padding='valid', activation='relu', strides=1)(tweet_encoder)\n",
        "trigram_branch = GlobalMaxPooling1D()(trigram_branch)\n",
        "fourgram_branch = Conv1D(filters=100, kernel_size=4, padding='valid', activation='relu', strides=1)(tweet_encoder)\n",
        "fourgram_branch = GlobalMaxPooling1D()(fourgram_branch)\n",
        "merged = concatenate([bigram_branch, trigram_branch, fourgram_branch], axis=1)\n",
        "\n",
        "merged = Dense(256, activation='relu')(merged)\n",
        "merged = Dropout(0.2)(merged)\n",
        "merged = Dense(1)(merged)\n",
        "output = Activation('sigmoid')(merged)\n",
        "model = Model(inputs=[tweet_input], outputs=[output])\n",
        "model.compile(loss='binary_crossentropy',\n",
        "                  optimizer='adam',\n",
        "                  metrics=['accuracy'])\n",
        "model.summary()"
      ]
    },
    {
      "cell_type": "code",
      "execution_count": 47,
      "metadata": {
        "colab": {
          "base_uri": "https://localhost:8080/"
        },
        "id": "VfMXsBfNFgUa",
        "outputId": "fbd09b09-d046-4bb2-bd38-58c4f0e5050c"
      },
      "outputs": [
        {
          "output_type": "stream",
          "name": "stdout",
          "text": [
            "Epoch 1/5\n",
            "59/59 [==============================] - ETA: 0s - loss: 0.9624 - accuracy: 0.5550\n",
            "Epoch 1: val_accuracy improved from -inf to 0.56223, saving model to CNN_best_weights.01-0.5622.hdf5\n",
            "59/59 [==============================] - 98s 2s/step - loss: 0.9624 - accuracy: 0.5550 - val_loss: 0.7178 - val_accuracy: 0.5622\n",
            "Epoch 2/5\n",
            "59/59 [==============================] - ETA: 0s - loss: 0.5097 - accuracy: 0.7536\n",
            "Epoch 2: val_accuracy improved from 0.56223 to 0.57082, saving model to CNN_best_weights.02-0.5708.hdf5\n",
            "59/59 [==============================] - 101s 2s/step - loss: 0.5097 - accuracy: 0.7536 - val_loss: 0.7355 - val_accuracy: 0.5708\n",
            "Epoch 3/5\n",
            "59/59 [==============================] - ETA: 0s - loss: 0.3853 - accuracy: 0.8336\n",
            "Epoch 3: val_accuracy improved from 0.57082 to 0.68240, saving model to CNN_best_weights.03-0.6824.hdf5\n",
            "59/59 [==============================] - 103s 2s/step - loss: 0.3853 - accuracy: 0.8336 - val_loss: 0.6049 - val_accuracy: 0.6824\n",
            "Epoch 4/5\n",
            "59/59 [==============================] - ETA: 0s - loss: 0.2345 - accuracy: 0.9211\n",
            "Epoch 4: val_accuracy did not improve from 0.68240\n",
            "59/59 [==============================] - 94s 2s/step - loss: 0.2345 - accuracy: 0.9211 - val_loss: 0.5899 - val_accuracy: 0.6781\n",
            "Epoch 5/5\n",
            "59/59 [==============================] - ETA: 0s - loss: 0.1057 - accuracy: 0.9812\n",
            "Epoch 5: val_accuracy did not improve from 0.68240\n",
            "59/59 [==============================] - 100s 2s/step - loss: 0.1057 - accuracy: 0.9812 - val_loss: 0.8233 - val_accuracy: 0.6137\n"
          ]
        },
        {
          "output_type": "execute_result",
          "data": {
            "text/plain": [
              "<keras.callbacks.History at 0x7f29b9903130>"
            ]
          },
          "metadata": {},
          "execution_count": 47
        }
      ],
      "source": [
        "from keras.callbacks import ModelCheckpoint\n",
        "\n",
        "filepath=\"CNN_best_weights.{epoch:02d}-{val_accuracy:.4f}.hdf5\"\n",
        "checkpoint = ModelCheckpoint(filepath, monitor='val_accuracy', verbose=1, save_best_only=True, mode='max')\n",
        "\n",
        "model.fit(x_train_seq, y_train, batch_size=32, epochs=5,\n",
        "                     validation_data=(x_val_seq, y_validation), callbacks = [checkpoint])"
      ]
    },
    {
      "cell_type": "code",
      "source": [
        "# import shutil\n",
        "# shutil.copy('CNN_best_weights.04-0.7210.hdf5',\"drive/MyDrive/Colab Notebooks/\")"
      ],
      "metadata": {
        "colab": {
          "base_uri": "https://localhost:8080/",
          "height": 35
        },
        "id": "Lo4BhDgy93Mr",
        "outputId": "723ffd91-f4d7-4939-841e-2ccc2a9bd6e7"
      },
      "execution_count": 50,
      "outputs": [
        {
          "output_type": "execute_result",
          "data": {
            "text/plain": [
              "'drive/MyDrive/Colab Notebooks/CNN_best_weights.04-0.7210.hdf5'"
            ],
            "application/vnd.google.colaboratory.intrinsic+json": {
              "type": "string"
            }
          },
          "metadata": {},
          "execution_count": 50
        }
      ]
    },
    {
      "cell_type": "code",
      "execution_count": 50,
      "metadata": {
        "colab": {
          "base_uri": "https://localhost:8080/"
        },
        "id": "hpZVR2LDFgUa",
        "outputId": "f48654f6-0d59-4ef4-ba0c-85e0503865ee"
      },
      "outputs": [
        {
          "output_type": "stream",
          "name": "stdout",
          "text": [
            "8/8 [==============================] - 7s 596ms/step - loss: 0.5775 - accuracy: 0.7210\n"
          ]
        },
        {
          "output_type": "execute_result",
          "data": {
            "text/plain": [
              "[0.5774533748626709, 0.721030056476593]"
            ]
          },
          "metadata": {},
          "execution_count": 50
        }
      ],
      "source": [
        "from keras.models import load_model\n",
        "loaded_CNN_model = load_model('/content/drive/MyDrive/Colab Notebooks/CNN_best_weights.04-0.7210.hdf5')\n",
        "loaded_CNN_model.evaluate(x=x_val_seq, y=y_validation)"
      ]
    },
    {
      "cell_type": "markdown",
      "metadata": {
        "id": "K8bfGofEFgUa"
      },
      "source": [
        "The best validation accuracy is 72.10%, slightly better than the simple CNN model with bigram filters, which yielded 71.24% validation accuracy."
      ]
    },
    {
      "cell_type": "markdown",
      "metadata": {
        "id": "rKVGnYnZFgUa"
      },
      "source": [
        "## Final Model Evaluation with Test Set"
      ]
    },
    {
      "cell_type": "markdown",
      "metadata": {
        "id": "KD5QX6D9FgUa"
      },
      "source": [
        "So far I have tested the model on the validation set to decide the feature extraction tuning and model comparison. Now I will finally check the final result with the test set. I will compare two different models: 1. Tf-Idf + logistic regression, 2. Word2Vec + CNN. As another measure for comparison, I will also plot ROC curve of both models."
      ]
    },
    {
      "cell_type": "code",
      "execution_count": 51,
      "metadata": {
        "colab": {
          "base_uri": "https://localhost:8080/"
        },
        "id": "u_ew-b9xFgUa",
        "outputId": "c0fb0e03-2928-4472-af40-414fd7d76abc"
      },
      "outputs": [
        {
          "output_type": "execute_result",
          "data": {
            "text/plain": [
              "TfidfVectorizer(max_features=100000, ngram_range=(1, 3))"
            ]
          },
          "metadata": {},
          "execution_count": 51
        }
      ],
      "source": [
        "from sklearn.feature_extraction.text import TfidfVectorizer\n",
        "tvec = TfidfVectorizer(max_features=100000,ngram_range=(1, 3))\n",
        "tvec.fit(x_train)"
      ]
    },
    {
      "cell_type": "code",
      "execution_count": 52,
      "metadata": {
        "id": "CifqcH0jFgUa"
      },
      "outputs": [],
      "source": [
        "x_train_tfidf = tvec.transform(x_train)\n",
        "x_test_tfidf = tvec.transform(x_test)"
      ]
    },
    {
      "cell_type": "code",
      "execution_count": 53,
      "metadata": {
        "colab": {
          "base_uri": "https://localhost:8080/"
        },
        "id": "pUPAgOTNFgUa",
        "outputId": "01121878-22d6-418c-d459-d0c8e989710e"
      },
      "outputs": [
        {
          "output_type": "execute_result",
          "data": {
            "text/plain": [
              "LogisticRegression()"
            ]
          },
          "metadata": {},
          "execution_count": 53
        }
      ],
      "source": [
        "from sklearn.linear_model import LogisticRegression\n",
        "lr_with_tfidf = LogisticRegression()\n",
        "lr_with_tfidf.fit(x_train_tfidf,y_train)"
      ]
    },
    {
      "cell_type": "code",
      "execution_count": 54,
      "metadata": {
        "colab": {
          "base_uri": "https://localhost:8080/"
        },
        "id": "oX2-yOnmFgUa",
        "outputId": "446d1aff-7b29-46ec-cc9b-b8d131c35f23"
      },
      "outputs": [
        {
          "output_type": "execute_result",
          "data": {
            "text/plain": [
              "0.7424892703862661"
            ]
          },
          "metadata": {},
          "execution_count": 54
        }
      ],
      "source": [
        "lr_with_tfidf.score(x_test_tfidf,y_test)"
      ]
    },
    {
      "cell_type": "code",
      "execution_count": 55,
      "metadata": {
        "collapsed": true,
        "id": "L0vlurZlFgUa"
      },
      "outputs": [],
      "source": [
        "yhat_lr = lr_with_tfidf.predict_proba(x_test_tfidf)"
      ]
    },
    {
      "cell_type": "code",
      "execution_count": 56,
      "metadata": {
        "collapsed": true,
        "id": "d1jRN5TCFgUa"
      },
      "outputs": [],
      "source": [
        "sequences_test = tokenizer.texts_to_sequences(x_test)\n",
        "x_test_seq = pad_sequences(sequences_test, maxlen=1500)"
      ]
    },
    {
      "cell_type": "code",
      "execution_count": 57,
      "metadata": {
        "colab": {
          "base_uri": "https://localhost:8080/"
        },
        "id": "-gkUqxOLFgUb",
        "outputId": "7679b01d-90ed-492a-e77f-b4e4b086a60f"
      },
      "outputs": [
        {
          "output_type": "stream",
          "name": "stdout",
          "text": [
            "8/8 [==============================] - 3s 327ms/step - loss: 0.5830 - accuracy: 0.6996\n"
          ]
        },
        {
          "output_type": "execute_result",
          "data": {
            "text/plain": [
              "[0.5830304622650146, 0.6995708346366882]"
            ]
          },
          "metadata": {},
          "execution_count": 57
        }
      ],
      "source": [
        "loaded_CNN_model.evaluate(x=x_test_seq, y=y_test)"
      ]
    },
    {
      "cell_type": "code",
      "execution_count": 58,
      "metadata": {
        "collapsed": true,
        "colab": {
          "base_uri": "https://localhost:8080/"
        },
        "id": "Qzt6YmUMFgUb",
        "outputId": "30444bf9-420e-4d1b-a5bd-e7cdf0d73cb3"
      },
      "outputs": [
        {
          "output_type": "stream",
          "name": "stdout",
          "text": [
            "8/8 [==============================] - 3s 342ms/step\n"
          ]
        }
      ],
      "source": [
        "yhat_cnn = loaded_CNN_model.predict(x_test_seq)"
      ]
    },
    {
      "cell_type": "code",
      "execution_count": 59,
      "metadata": {
        "colab": {
          "base_uri": "https://localhost:8080/",
          "height": 465
        },
        "id": "w91BQ0JkFgUb",
        "outputId": "096d3f60-ddda-4ca4-d2a2-727f618915ed"
      },
      "outputs": [
        {
          "output_type": "display_data",
          "data": {
            "text/plain": [
              "<Figure size 576x504 with 1 Axes>"
            ],
            "image/png": "[encoded data removed]"
          },
          "metadata": {
            "image/png": {
              "width": 563,
              "height": 448
            },
            "needs_background": "light"
          }
        }
      ],
      "source": [
        "from sklearn.metrics import roc_curve, auc\n",
        "fpr, tpr, threshold = roc_curve(y_test, yhat_lr[:,1])\n",
        "roc_auc = auc(fpr, tpr)\n",
        "fpr_cnn, tpr_cnn, threshold = roc_curve(y_test, yhat_cnn)\n",
        "roc_auc_nn = auc(fpr_cnn, tpr_cnn)\n",
        "plt.figure(figsize=(8,7))\n",
        "plt.plot(fpr, tpr, label='tfidf-logit (area = %0.3f)' % roc_auc, linewidth=2)\n",
        "plt.plot(fpr_cnn, tpr_cnn, label='w2v-CNN (area = %0.3f)' % roc_auc_nn, linewidth=2)\n",
        "\n",
        "plt.plot([0, 1], [0, 1], 'k--', linewidth=2)\n",
        "plt.xlim([-0.05, 1.0])\n",
        "plt.ylim([-0.05, 1.05])\n",
        "plt.xlabel('False Positive Rate', fontsize=18)\n",
        "plt.ylabel('True Positive Rate', fontsize=18)\n",
        "plt.title('Receiver operating characteristic: is positive', fontsize=18)\n",
        "plt.legend(loc=\"lower right\")\n",
        "plt.show()"
      ]
    },
    {
      "cell_type": "code",
      "source": [
        "from bs4 import BeautifulSoup\n",
        "from urllib.request import urlopen, Request\n",
        "from random import seed\n",
        "import requests\n",
        "import urllib\n",
        "import time\n",
        "import pandas as pd\n",
        "import numpy as np\n",
        "import datetime\n",
        "import pickle\n",
        "import matplotlib.pyplot as plt\n",
        "from pprint import pprint\n",
        "import re\n",
        "from nltk.tokenize import WordPunctTokenizer\n",
        "from tqdm.notebook import tqdm\n",
        "from socket import timeout\n",
        "import socket"
      ],
      "metadata": {
        "id": "imdVxpx3B_5K"
      },
      "execution_count": 60,
      "outputs": []
    },
    {
      "cell_type": "code",
      "source": [
        "date_list = []\n",
        "for i in range(2018,2023,1):\n",
        "  for j in range(1,13,1):\n",
        "    for k in range(1,32,1):\n",
        "      l = str(j) if j >= 10 else \"0\"+str(j)\n",
        "      m = str(k) if k >= 10 else \"0\"+str(k)\n",
        "      date_list.append(str(i)+\"-\"+l+\"-\"+m)"
      ],
      "metadata": {
        "id": "w0S3pJaICUYL"
      },
      "execution_count": 61,
      "outputs": []
    },
    {
      "cell_type": "code",
      "source": [
        "import random\n",
        "head_1 = {'User-Agent': 'Mozilla/5.0 (Macintosh; Intel Mac OS X 10_15_7) AppleWebKit/537.36 (KHTML, like Gecko) Chrome/104.0.5112.79 Safari/537.36'}\n",
        "head_2 = {'User-Agent': 'Mozilla/5.0 (Windows NT 10.0) AppleWebKit/537.36 (KHTML, like Gecko) Chrome/104.0.0.0 Safari/537.36'}\n",
        "head_3 = {'User-Agent': 'Mozilla/5.0 (Macintosh; Intel Mac OS X 10_14_6) AppleWebKit/537.36 (KHTML, like Gecko) Chrome/104.0.0.0 Safari/537.36'}\n",
        "head_4 = {'User-Agent': 'Mozilla/5.0 (X11; Linux x86_64) AppleWebKit/537.36 (KHTML, like Gecko) Chrome/103.0.5060.53 Safari/537.36'}\n",
        "head_5 = {'User-Agent': 'Mozilla/5.0 (Macintosh; Intel Mac OS X 10_15_3) AppleWebKit/537.36 (KHTML, like Gecko) Chrome/99.0.4844.84 Safari/537.36'}\n",
        "head_6 = {'User-Agent': 'Mozilla/5.0 (Windows NT 10.0; Win64; x64) AppleWebKit/537.36 (KHTML, like Gecko) Chrome/70.0.3538.77 Safari/537.36'}\n",
        "head_7 = {'User-Agent': 'Mozilla/5.0 (X11; Ubuntu; Linux x86_64) AppleWebKit/537.36 (KHTML, like Gecko) Chrome/55.0.2919.83 Safari/537.36'}\n",
        "head_8 = {'User-Agent' : 'Mozilla/5.0 (Macintosh; Intel Mac OS X 10_8_3) AppleWebKit/537.36 (KHTML, like Gecko) Chrome/54.0.2866.71 Safari/537.36'}\n",
        "head_9 = {'User-Agent' : 'Mozilla/5.0 (X11; Ubuntu; Linux i686 on x86_64) AppleWebKit/537.36 (KHTML, like Gecko) Chrome/53.0.2820.59 Safari/537.36'}\n",
        "head_10 = {'User-Agent' : 'Mozilla/5.0 (Macintosh; Intel Mac OS X 10_9_2) AppleWebKit/537.36 (KHTML, like Gecko) Chrome/52.0.2762.73 Safari/537.36'}\n",
        "head_11 = {'User-Agent' : 'Mozilla/5.0 (Macintosh; Intel Mac OS X 10_8_4) AppleWebKit/537.36 (KHTML, like Gecko) Chrome/49.0.2656.18 Safari/537.36'}\n",
        "\n",
        "header_l = [head_1, head_2, head_3, head_4, head_5, head_6, head_7, head_8, head_9, head_10, head_11]\n",
        "\n",
        "def scraper(rdate):\n",
        "  art_dict = {}\n",
        "  # for i in tqdm(date_list[-31:]):\n",
        "  page = \"https://www.dawn.com/newspaper/business/\"+rdate\n",
        "  req1 = urllib.request.Request(page, headers = random.choice(header_l))\n",
        "  html_page = urlopen(req1)\n",
        "  # html_page = urlopen(page)\n",
        "  soup = BeautifulSoup(html_page,\"lxml\")\n",
        "  if soup.find_all(\"h2\",{\"class\" : \"story__title\"}):\n",
        "      for link in tqdm(soup.find_all(\"a\",{\"class\" : \"story__link\"})):\n",
        "          if \"http\" in link.get(\"href\"):\n",
        "              links = link.get(\"href\")\n",
        "              req2 = urllib.request.Request(links, headers = random.choice(header_l))\n",
        "              html_page_1 = urlopen(req2)\n",
        "              # html_page_1 = urlopen(links)\n",
        "              soup = BeautifulSoup(html_page_1,\"lxml\")\n",
        "              body = soup.body\n",
        "              for paragraph in body.find_all(\"div\", class_=\"story__content\"):\n",
        "                  art_dict[links] = [paragraph.text]\n",
        "  # len(list(art_dict.keys()))\n",
        "\n",
        "  cols = [\"links\",\"article\"]\n",
        "  fdf = pd.DataFrame(art_dict).transpose().reset_index()\n",
        "  fdf.columns = cols\n",
        "\n",
        "  fdf[\"length\"] = [len(t) for t in fdf.article]\n",
        "\n",
        "  data_dict = {'article':{'type':fdf.article.dtype,'description':'article text'},\n",
        "              'length':{'type':fdf.length.dtype,'description':'Length of the article before cleaning'},\n",
        "              'dataset_shape':fdf.shape}\n",
        "\n",
        "  tok = WordPunctTokenizer()\n",
        "  plt.style.use('fivethirtyeight')\n",
        "\n",
        "  pat1 = r'@[A-Za-z0-9_]+'\n",
        "  pat2 = r'https?://[^ ]+'\n",
        "  combined_pat = r'|'.join((pat1, pat2))\n",
        "  www_pat = r'www.[^ ]+'\n",
        "  negations_dic = {\"isn't\":\"is not\", \"aren't\":\"are not\", \"wasn't\":\"was not\", \"weren't\":\"were not\",\n",
        "                  \"haven't\":\"have not\",\"hasn't\":\"has not\",\"hadn't\":\"had not\",\"won't\":\"will not\",\n",
        "                  \"wouldn't\":\"would not\", \"don't\":\"do not\", \"doesn't\":\"does not\",\"didn't\":\"did not\",\n",
        "                  \"can't\":\"can not\",\"couldn't\":\"could not\",\"shouldn't\":\"should not\",\"mightn't\":\"might not\",\n",
        "                  \"mustn't\":\"must not\"}\n",
        "  neg_pattern = re.compile(r'\\b(' + '|'.join(negations_dic.keys()) + r')\\b')\n",
        "\n",
        "  def article_cleaner(article):\n",
        "      soup = BeautifulSoup(article, 'lxml')\n",
        "      souped = soup.get_text()\n",
        "      try:\n",
        "          bom_removed = souped.decode(\"utf-8-sig\").replace(u\"\\ufffd\", \"?\")\n",
        "      except:\n",
        "          bom_removed = souped\n",
        "      stripped = re.sub(combined_pat, '', bom_removed)\n",
        "      stripped = re.sub(www_pat, '', stripped)\n",
        "      stripped = re.sub(\"googletag cmd push function googletag display saqib mrec sra\", \"\", stripped)\n",
        "      lower_case = stripped.lower()\n",
        "      neg_handled = neg_pattern.sub(lambda x: negations_dic[x.group()], lower_case)\n",
        "      letters_only = re.sub(\"[^a-zA-Z]\", \" \", neg_handled)        # During the letters_only process two lines above, it has created unnecessay white spaces, I will tokenize and join together to remove unneccessary white spaces\n",
        "      words = [x for x  in tok.tokenize(letters_only) if len(x) > 1]\n",
        "      return (\" \".join(words)).strip()\n",
        "\n",
        "  clean_article_text = []\n",
        "  for index in range(len(fdf[\"article\"])):\n",
        "      clean_article_text.append(article_cleaner(fdf[\"article\"][index]))\n",
        "\n",
        "  fdf[\"clean_article\"] = clean_article_text\n",
        "  fdf[\"length\"] = [len(t) for t in clean_article_text]\n",
        "  \n",
        "  article = fdf[\"clean_article\"].values\n",
        "\n",
        "  predict_lr = lr_with_tfidf.predict_proba(tvec.transform(article))\n",
        "\n",
        "  sequences_daily = tokenizer.texts_to_sequences(article)\n",
        "  daily_seq = pad_sequences(sequences_daily, maxlen=1500)\n",
        "\n",
        "  predict_cnn = loaded_CNN_model.predict(daily_seq)\n",
        "\n",
        "  fdf[\"prediction_cnn\"] = predict_cnn\n",
        "  fdf[\"prediction_lr\"] = predict_lr[:,1]\n",
        "\n",
        "  average_sentiment_cnn = np.average(fdf[\"prediction_cnn\"])\n",
        "  average_sentiment_lr = np.average(fdf[\"prediction_lr\"])\n",
        "  # print(\"CNN:\", average_sentiment_cnn, \"\\nLR:\", average_sentiment_lr)\n",
        "  average_sentiment = (average_sentiment_lr + average_sentiment_cnn)/2\n",
        "  # print(\"Average Sentiment:\", average_sentiment)\n",
        "\n",
        "  return fdf, average_sentiment"
      ],
      "metadata": {
        "id": "IMwshzjzYVf0"
      },
      "execution_count": 94,
      "outputs": []
    },
    {
      "cell_type": "code",
      "source": [
        "date_for_trend = \"2022-12-27\"\n",
        "idx = date_list.index(date_for_trend)\n",
        "weekly_dict = {}\n",
        "avg_sent = {}\n",
        "for i in range(0,3,1):\n",
        "  weekly_dict[date_list[idx - i]], avg_sent[date_list[idx - i]] = scraper(date_list[idx - i])\n",
        "  time.sleep(10)"
      ],
      "metadata": {
        "colab": {
          "base_uri": "https://localhost:8080/",
          "height": 165,
          "referenced_widgets": [
            "e72b32f1580846069d194e8298e5b191",
            "51bbdd25d624441bb2350ff662b6405c",
            "d20e02273a1f40af8ef6034f47de75fd",
            "7e220dfd38bf4f868ee07ba4c49e9ff7",
            "9b264299e82d4b73830e5f12855aa0f1",
            "c173ba5d546b4450ad5829d3a103d7a1",
            "efec5113c6ef4f46adfd71a8e8def7be",
            "4f24d0cc0aae48ed940fc800692afd4f",
            "d4b4f892c3c949f281139633331f2680",
            "a2c7c14777ff43e094cc592f302124c0",
            "37baf4de616b4cd78a8dc74a247f09ea",
            "56fa7a95f4df437cbb0b303008a166e1",
            "f7f726e6032949219eb484a7303f3646",
            "1a38f3d4d1fb470ba8bc7b0f432afa43",
            "2708ee46a2c94f02a600bd14e211cc2a",
            "dc7ed0f6c3e9494b93a7d1c2c12cd02d",
            "e06639180b3a4d9b907dce85b05fb73c",
            "48c662fc761d4cc09c41870b4cda674f",
            "642ae3f97ee54c2a8d787a0230382210",
            "351fda574c5545bf976265c3e6c1d0aa",
            "a1065ade7a244138a4899c2e5e64dae9",
            "d91534d722e34763a4a17164d0cf0910",
            "b7b9ccba41ba4b91810a4da9f2a13da8",
            "237f1ec1c36441df96c300e4725d3eff",
            "de2fc77c63ed476199cf0584a96c9cac",
            "12cdac0529bd4d9d85403dc9bc0eccdc",
            "af9c198ae9ad4f219e100a71d1488c63",
            "46a765d330ba465bbd8397bc59fb8ad1",
            "0cae2d03a10743d4afa16af6c06d35ee",
            "c32f4e272f0d4524a70283137d4f05ad",
            "45272ac01a364fe5b19d6326d9be84fa",
            "732b01dd8e9b4ad5a63854be1d52a444",
            "99f599c0ac924549b9454f7ea55256fd"
          ]
        },
        "id": "o6eUX_EJYVZ-",
        "outputId": "6ee586f4-e4fb-4f2a-ba7a-fcc1bb8fd355"
      },
      "execution_count": 160,
      "outputs": [
        {
          "output_type": "display_data",
          "data": {
            "text/plain": [
              "  0%|          | 0/7 [00:00<?, ?it/s]"
            ],
            "application/vnd.jupyter.widget-view+json": {
              "version_major": 2,
              "version_minor": 0,
              "model_id": "e72b32f1580846069d194e8298e5b191"
            }
          },
          "metadata": {}
        },
        {
          "output_type": "stream",
          "name": "stdout",
          "text": [
            "1/1 [==============================] - 0s 93ms/step\n"
          ]
        },
        {
          "output_type": "display_data",
          "data": {
            "text/plain": [
              "  0%|          | 0/14 [00:00<?, ?it/s]"
            ],
            "application/vnd.jupyter.widget-view+json": {
              "version_major": 2,
              "version_minor": 0,
              "model_id": "56fa7a95f4df437cbb0b303008a166e1"
            }
          },
          "metadata": {}
        },
        {
          "output_type": "stream",
          "name": "stdout",
          "text": [
            "1/1 [==============================] - 0s 181ms/step\n"
          ]
        },
        {
          "output_type": "display_data",
          "data": {
            "text/plain": [
              "  0%|          | 0/8 [00:00<?, ?it/s]"
            ],
            "application/vnd.jupyter.widget-view+json": {
              "version_major": 2,
              "version_minor": 0,
              "model_id": "b7b9ccba41ba4b91810a4da9f2a13da8"
            }
          },
          "metadata": {}
        },
        {
          "output_type": "stream",
          "name": "stdout",
          "text": [
            "1/1 [==============================] - 0s 101ms/step\n"
          ]
        }
      ]
    },
    {
      "cell_type": "code",
      "source": [
        "from matplotlib.pyplot import figure\n",
        "\n",
        "avg_df = pd.DataFrame(avg_sent, index = range(0,len(list(avg_sent.keys())))).transpose().reset_index()\n",
        "avg_df.drop(columns = [1, 2], inplace = True)\n",
        "avg_df.columns = [\"Date\", \"Sentiment\"]\n",
        "avg_df.index = avg_df[\"Date\"].astype(\"datetime64\")\n",
        "avg_df.drop(columns = [\"Date\"], inplace = True)\n",
        "plt.plot(avg_df.index, avg_df[\"Sentiment\"], label = \"Sentiment\")\n",
        "plt.title(\"Sentiments\")\n",
        "plt.legend()\n",
        "plt.show()"
      ],
      "metadata": {
        "colab": {
          "base_uri": "https://localhost:8080/",
          "height": 303
        },
        "id": "79mfRpISa3tc",
        "outputId": "a4f6296d-b218-47fe-e884-021613d739bb"
      },
      "execution_count": 167,
      "outputs": [
        {
          "output_type": "display_data",
          "data": {
            "text/plain": [
              "<Figure size 432x288 with 1 Axes>"
            ],
            "image/png": "[encoded data removed]"
          },
          "metadata": {
            "image/png": {
              "width": 439,
              "height": 286
            }
          }
        }
      ]
    },
    {
      "cell_type": "code",
      "source": [
        "KSE100 = pd.read_csv(\"HBLTTI.csv\")\n",
        "KSE100[\"Date\"] = KSE100[\"Date\"].astype(\"datetime64\")\n",
        "KSE100.index = KSE100[\"Date\"]\n",
        "KSE100.drop(columns = [\"Date\", \"Open Index\", \"Closing Index\", \"Change in Index\"], inplace = True)\n",
        "KSE100.dropna(inplace = True)\n",
        "plt.plot(KSE100.index[3:6], KSE100.iloc[4:7][\"Change Percentage\"], label = \"Index Change\")\n",
        "plt.title(\"KSE100 Index\")\n",
        "plt.legend()\n",
        "plt.show()"
      ],
      "metadata": {
        "colab": {
          "base_uri": "https://localhost:8080/",
          "height": 303
        },
        "id": "Szb89u3VjrNI",
        "outputId": "dc11f551-dc29-458d-b0da-00c58a5f5ca3"
      },
      "execution_count": 168,
      "outputs": [
        {
          "output_type": "display_data",
          "data": {
            "text/plain": [
              "<Figure size 432x288 with 1 Axes>"
            ],
            "image/png": "[encoded data removed]"
          },
          "metadata": {
            "image/png": {
              "width": 439,
              "height": 286
            }
          }
        }
      ]
    },
    {
      "cell_type": "code",
      "source": [
        "average_sentiment = avg_df[\"Sentiment\"].values[0]\n",
        "print(\"Average Sentiment:\", average_sentiment)\n",
        "if average_sentiment > 0.8:\n",
        "    print(\"The market sentiment is highly positive\")\n",
        "elif ((average_sentiment > 0.5) | (average_sentiment <= 0.8)):\n",
        "    print(\"The market sentiment is positive\")\n",
        "elif ((average_sentiment > 0.2) | (average_sentiment <= 0.5)):\n",
        "    print(\"The market sentiment is negative\")\n",
        "else:\n",
        "    print(\"The market sentiment is highly negative\")\n",
        "\n",
        "plt.plot(KSE100.index[4:7], KSE100.iloc[4:7][\"Change Percentage\"], label = \"Index Change\")\n",
        "plt.plot(avg_df.index, avg_df[\"Sentiment\"], label = \"Sentiment\")\n",
        "plt.legend()\n",
        "plt.show()"
      ],
      "metadata": {
        "colab": {
          "base_uri": "https://localhost:8080/",
          "height": 317
        },
        "id": "B_1DGppkkeTH",
        "outputId": "ddd3167e-ddca-4e70-afb2-c905045ad781"
      },
      "execution_count": 170,
      "outputs": [
        {
          "output_type": "stream",
          "name": "stdout",
          "text": [
            "Average Sentiment: 0.6680269559275419\n",
            "The market sentiment is positive\n"
          ]
        },
        {
          "output_type": "display_data",
          "data": {
            "text/plain": [
              "<Figure size 432x288 with 1 Axes>"
            ],
            "image/png": "[encoded data removed]"
          },
          "metadata": {
            "image/png": {
              "width": 430,
              "height": 265
            }
          }
        }
      ]
    },
    {
      "cell_type": "code",
      "source": [
        "weekly_dict.keys()"
      ],
      "metadata": {
        "colab": {
          "base_uri": "https://localhost:8080/"
        },
        "id": "3c_268Yp5hIm",
        "outputId": "1152d058-e925-4b18-a471-f224397976a6"
      },
      "execution_count": 179,
      "outputs": [
        {
          "output_type": "execute_result",
          "data": {
            "text/plain": [
              "dict_keys(['2022-12-27', '2022-12-26', '2022-12-25'])"
            ]
          },
          "metadata": {},
          "execution_count": 179
        }
      ]
    },
    {
      "cell_type": "code",
      "source": [
        "weekly_dict[list(weekly_dict.keys())[0]]"
      ],
      "metadata": {
        "colab": {
          "base_uri": "https://localhost:8080/",
          "height": 434
        },
        "id": "7GW30fsz4zUl",
        "outputId": "d2616e03-a750-4a94-8d9a-d5d0f83d37a1"
      },
      "execution_count": 175,
      "outputs": [
        {
          "output_type": "execute_result",
          "data": {
            "text/plain": [
              "                                               links  \\\n",
              "0  https://www.dawn.com/news/1728434/govt-weighs-...   \n",
              "1  https://www.dawn.com/news/1728433/dollar-fligh...   \n",
              "2  https://www.dawn.com/news/1728432/pak-suzuki-s...   \n",
              "3  https://www.dawn.com/news/1728431/nine-mous-si...   \n",
              "4  https://www.dawn.com/news/1728430/rs370bn-inve...   \n",
              "5  https://www.dawn.com/news/1728429/energy-equip...   \n",
              "6  https://www.dawn.com/news/1728428/stocks-rally...   \n",
              "\n",
              "                                             article  length  \\\n",
              "0  ISLAMABAD: The government on Monday decided to...    3762   \n",
              "1  KARACHI: Confirming what has been known as an ...    2859   \n",
              "2  KARACHI: Pak Suzuki Motor Company Ltd (PSMCL) ...    1381   \n",
              "3  ISLAMABAD: Pakistan and Uzbekistan on Tuesday ...    1322   \n",
              "4  ISLAMABAD: The National Transmission and Despa...    3211   \n",
              "5  KARACHI: Energy equipment distributor NetLine ...    1788   \n",
              "6  KARACHI: Trading on the stock exchange remaine...    1801   \n",
              "\n",
              "                                       clean_article  prediction_cnn  \\\n",
              "0  islamabad the government on monday decided to ...        0.638259   \n",
              "1  karachi confirming what has been known as an o...        0.193709   \n",
              "2  karachi pak suzuki motor company ltd psmcl on ...        0.526130   \n",
              "3  islamabad pakistan and uzbekistan on tuesday s...        0.915612   \n",
              "4  islamabad the national transmission and despat...        0.975499   \n",
              "5  karachi energy equipment distributor netline l...        0.975183   \n",
              "6  karachi trading on the stock exchange remained...        0.779082   \n",
              "\n",
              "   prediction_lr  \n",
              "0       0.567487  \n",
              "1       0.460887  \n",
              "2       0.553768  \n",
              "3       0.734202  \n",
              "4       0.733086  \n",
              "5       0.732122  \n",
              "6       0.567351  "
            ],
            "text/html": [
              "\n",
              "  <div id=\"df-eb722acf-b036-491d-bfc2-111e981571d9\">\n",
              "    <div class=\"colab-df-container\">\n",
              "      <div>\n",
              "<style scoped>\n",
              "    .dataframe tbody tr th:only-of-type {\n",
              "        vertical-align: middle;\n",
              "    }\n",
              "\n",
              "    .dataframe tbody tr th {\n",
              "        vertical-align: top;\n",
              "    }\n",
              "\n",
              "    .dataframe thead th {\n",
              "        text-align: right;\n",
              "    }\n",
              "</style>\n",
              "<table border=\"1\" class=\"dataframe\">\n",
              "  <thead>\n",
              "    <tr style=\"text-align: right;\">\n",
              "      <th></th>\n",
              "      <th>links</th>\n",
              "      <th>article</th>\n",
              "      <th>length</th>\n",
              "      <th>clean_article</th>\n",
              "      <th>prediction_cnn</th>\n",
              "      <th>prediction_lr</th>\n",
              "    </tr>\n",
              "  </thead>\n",
              "  <tbody>\n",
              "    <tr>\n",
              "      <th>0</th>\n",
              "      <td>https://www.dawn.com/news/1728434/govt-weighs-...</td>\n",
              "      <td>ISLAMABAD: The government on Monday decided to...</td>\n",
              "      <td>3762</td>\n",
              "      <td>islamabad the government on monday decided to ...</td>\n",
              "      <td>0.638259</td>\n",
              "      <td>0.567487</td>\n",
              "    </tr>\n",
              "    <tr>\n",
              "      <th>1</th>\n",
              "      <td>https://www.dawn.com/news/1728433/dollar-fligh...</td>\n",
              "      <td>KARACHI: Confirming what has been known as an ...</td>\n",
              "      <td>2859</td>\n",
              "      <td>karachi confirming what has been known as an o...</td>\n",
              "      <td>0.193709</td>\n",
              "      <td>0.460887</td>\n",
              "    </tr>\n",
              "    <tr>\n",
              "      <th>2</th>\n",
              "      <td>https://www.dawn.com/news/1728432/pak-suzuki-s...</td>\n",
              "      <td>KARACHI: Pak Suzuki Motor Company Ltd (PSMCL) ...</td>\n",
              "      <td>1381</td>\n",
              "      <td>karachi pak suzuki motor company ltd psmcl on ...</td>\n",
              "      <td>0.526130</td>\n",
              "      <td>0.553768</td>\n",
              "    </tr>\n",
              "    <tr>\n",
              "      <th>3</th>\n",
              "      <td>https://www.dawn.com/news/1728431/nine-mous-si...</td>\n",
              "      <td>ISLAMABAD: Pakistan and Uzbekistan on Tuesday ...</td>\n",
              "      <td>1322</td>\n",
              "      <td>islamabad pakistan and uzbekistan on tuesday s...</td>\n",
              "      <td>0.915612</td>\n",
              "      <td>0.734202</td>\n",
              "    </tr>\n",
              "    <tr>\n",
              "      <th>4</th>\n",
              "      <td>https://www.dawn.com/news/1728430/rs370bn-inve...</td>\n",
              "      <td>ISLAMABAD: The National Transmission and Despa...</td>\n",
              "      <td>3211</td>\n",
              "      <td>islamabad the national transmission and despat...</td>\n",
              "      <td>0.975499</td>\n",
              "      <td>0.733086</td>\n",
              "    </tr>\n",
              "    <tr>\n",
              "      <th>5</th>\n",
              "      <td>https://www.dawn.com/news/1728429/energy-equip...</td>\n",
              "      <td>KARACHI: Energy equipment distributor NetLine ...</td>\n",
              "      <td>1788</td>\n",
              "      <td>karachi energy equipment distributor netline l...</td>\n",
              "      <td>0.975183</td>\n",
              "      <td>0.732122</td>\n",
              "    </tr>\n",
              "    <tr>\n",
              "      <th>6</th>\n",
              "      <td>https://www.dawn.com/news/1728428/stocks-rally...</td>\n",
              "      <td>KARACHI: Trading on the stock exchange remaine...</td>\n",
              "      <td>1801</td>\n",
              "      <td>karachi trading on the stock exchange remained...</td>\n",
              "      <td>0.779082</td>\n",
              "      <td>0.567351</td>\n",
              "    </tr>\n",
              "  </tbody>\n",
              "</table>\n",
              "</div>\n",
              "      <button class=\"colab-df-convert\" onclick=\"convertToInteractive('df-eb722acf-b036-491d-bfc2-111e981571d9')\"\n",
              "              title=\"Convert this dataframe to an interactive table.\"\n",
              "              style=\"display:none;\">\n",
              "        \n",
              "  <svg xmlns=\"http://www.w3.org/2000/svg\" height=\"24px\"viewBox=\"0 0 24 24\"\n",
              "       width=\"24px\">\n",
              "    <path d=\"M0 0h24v24H0V0z\" fill=\"none\"/>\n",
              "    <path d=\"M18.56 5.44l.94 2.06.94-2.06 2.06-.94-2.06-.94-.94-2.06-.94 2.06-2.06.94zm-11 1L8.5 8.5l.94-2.06 2.06-.94-2.06-.94L8.5 2.5l-.94 2.06-2.06.94zm10 10l.94 2.06.94-2.06 2.06-.94-2.06-.94-.94-2.06-.94 2.06-2.06.94z\"/><path d=\"M17.41 7.96l-1.37-1.37c-.4-.4-.92-.59-1.43-.59-.52 0-1.04.2-1.43.59L10.3 9.45l-7.72 7.72c-.78.78-.78 2.05 0 2.83L4 21.41c.39.39.9.59 1.41.59.51 0 1.02-.2 1.41-.59l7.78-7.78 2.81-2.81c.8-.78.8-2.07 0-2.86zM5.41 20L4 18.59l7.72-7.72 1.47 1.35L5.41 20z\"/>\n",
              "  </svg>\n",
              "      </button>\n",
              "      \n",
              "  <style>\n",
              "    .colab-df-container {\n",
              "      display:flex;\n",
              "      flex-wrap:wrap;\n",
              "      gap: 12px;\n",
              "    }\n",
              "\n",
              "    .colab-df-convert {\n",
              "      background-color: #E8F0FE;\n",
              "      border: none;\n",
              "      border-radius: 50%;\n",
              "      cursor: pointer;\n",
              "      display: none;\n",
              "      fill: #1967D2;\n",
              "      height: 32px;\n",
              "      padding: 0 0 0 0;\n",
              "      width: 32px;\n",
              "    }\n",
              "\n",
              "    .colab-df-convert:hover {\n",
              "      background-color: #E2EBFA;\n",
              "      box-shadow: 0px 1px 2px rgba(60, 64, 67, 0.3), 0px 1px 3px 1px rgba(60, 64, 67, 0.15);\n",
              "      fill: #174EA6;\n",
              "    }\n",
              "\n",
              "    [theme=dark] .colab-df-convert {\n",
              "      background-color: #3B4455;\n",
              "      fill: #D2E3FC;\n",
              "    }\n",
              "\n",
              "    [theme=dark] .colab-df-convert:hover {\n",
              "      background-color: #434B5C;\n",
              "      box-shadow: 0px 1px 3px 1px rgba(0, 0, 0, 0.15);\n",
              "      filter: drop-shadow(0px 1px 2px rgba(0, 0, 0, 0.3));\n",
              "      fill: #FFFFFF;\n",
              "    }\n",
              "  </style>\n",
              "\n",
              "      <script>\n",
              "        const buttonEl =\n",
              "          document.querySelector('#df-eb722acf-b036-491d-bfc2-111e981571d9 button.colab-df-convert');\n",
              "        buttonEl.style.display =\n",
              "          google.colab.kernel.accessAllowed ? 'block' : 'none';\n",
              "\n",
              "        async function convertToInteractive(key) {\n",
              "          const element = document.querySelector('#df-eb722acf-b036-491d-bfc2-111e981571d9');\n",
              "          const dataTable =\n",
              "            await google.colab.kernel.invokeFunction('convertToInteractive',\n",
              "                                                     [key], {});\n",
              "          if (!dataTable) return;\n",
              "\n",
              "          const docLinkHtml = 'Like what you see? Visit the ' +\n",
              "            '<a target=\"_blank\" href=https://colab.research.google.com/notebooks/data_table.ipynb>data table notebook</a>'\n",
              "            + ' to learn more about interactive tables.';\n",
              "          element.innerHTML = '';\n",
              "          dataTable['output_type'] = 'display_data';\n",
              "          await google.colab.output.renderOutput(dataTable, element);\n",
              "          const docLink = document.createElement('div');\n",
              "          docLink.innerHTML = docLinkHtml;\n",
              "          element.appendChild(docLink);\n",
              "        }\n",
              "      </script>\n",
              "    </div>\n",
              "  </div>\n",
              "  "
            ]
          },
          "metadata": {},
          "execution_count": 175
        }
      ]
    },
    {
      "cell_type": "code",
      "source": [
        "weekly_dict[list(weekly_dict.keys())[1]]"
      ],
      "metadata": {
        "colab": {
          "base_uri": "https://localhost:8080/",
          "height": 775
        },
        "id": "siBkUeOY5QlC",
        "outputId": "6c0de9cd-ef36-487b-8eea-4557950f9c05"
      },
      "execution_count": 176,
      "outputs": [
        {
          "output_type": "execute_result",
          "data": {
            "text/plain": [
              "                                                links  \\\n",
              "0   https://www.dawn.com/news/1728229/kse-100-shar...   \n",
              "1   https://www.dawn.com/news/1728227/rupee-report...   \n",
              "2      https://www.dawn.com/news/1728224/company-news   \n",
              "3   https://www.dawn.com/news/1728222/tracing-the-...   \n",
              "4   https://www.dawn.com/news/1728218/fishing-for-...   \n",
              "5   https://www.dawn.com/news/1728236/saving-water...   \n",
              "6   https://www.dawn.com/news/1728235/troubles-lur...   \n",
              "7   https://www.dawn.com/news/1728234/why-is-pakis...   \n",
              "8   https://www.dawn.com/news/1728231/finance-igno...   \n",
              "9   https://www.dawn.com/news/1728225/short-sighte...   \n",
              "10  https://www.dawn.com/news/1728223/corporate-wi...   \n",
              "11  https://www.dawn.com/news/1728221/why-female-f...   \n",
              "12      https://www.dawn.com/news/1728220/data-points   \n",
              "13  https://www.dawn.com/news/1728219/at-the-termi...   \n",
              "\n",
              "                                              article  length  \\\n",
              "0   \\n\\nChart by Rehan Ahmed\\n\\n \\nPublished in Da...      82   \n",
              "1   \\n\\nChart by RA\\n\\n \\nPublished in Dawn, The B...      73   \n",
              "2   Co-branded lubricant products\\nHyundai Nishat ...    4382   \n",
              "3   We, as a nation, produce much less than we con...    6019   \n",
              "4   Pakistan’s fish and fish preparations exports ...    5869   \n",
              "5   There was a time when you could step into the ...    4752   \n",
              "6   Pakistan will head into 2023 with an incredibl...    5927   \n",
              "7   According to many agricultural economists, cur...    7000   \n",
              "8   Pakistan is facing a severe foreign exchange c...    5108   \n",
              "9   Pakistan has not run out of gas overnight. At ...    6052   \n",
              "10  It’s good that Prime Minister Shahbaz’s econom...    6492   \n",
              "11  Pakistan’s financial inclusion numbers are the...    1977   \n",
              "12  The stigma of menopause\\nFor half the global p...    4255   \n",
              "13  The cancerous disease of Pakistan’s power mark...    6014   \n",
              "\n",
              "                                        clean_article  prediction_cnn  \\\n",
              "0   chart by rehan ahmed published in dawn the bus...        0.890970   \n",
              "1   chart by ra published in dawn the business and...        0.898609   \n",
              "2   co branded lubricant products hyundai nishat m...        0.976595   \n",
              "3   we as nation produce much less than we consume...        0.139047   \n",
              "4   pakistan fish and fish preparations exports ha...        0.647771   \n",
              "5   there was time when you could step into the ba...        0.578411   \n",
              "6   pakistan will head into with an incredibly glo...        0.266991   \n",
              "7   according to many agricultural economists curr...        0.392436   \n",
              "8   pakistan is facing severe foreign exchange cri...        0.145130   \n",
              "9   pakistan has not run out of gas overnight at t...        0.145710   \n",
              "10  it good that prime minister shahbaz economic t...        0.230138   \n",
              "11  pakistan financial inclusion numbers are the w...        0.594328   \n",
              "12  the stigma of menopause for half the global po...        0.275516   \n",
              "13  the cancerous disease of pakistan power market...        0.200950   \n",
              "\n",
              "    prediction_lr  \n",
              "0        0.651984  \n",
              "1        0.647016  \n",
              "2        0.700881  \n",
              "3        0.398275  \n",
              "4        0.484821  \n",
              "5        0.491548  \n",
              "6        0.361986  \n",
              "7        0.575711  \n",
              "8        0.434884  \n",
              "9        0.493891  \n",
              "10       0.360356  \n",
              "11       0.636214  \n",
              "12       0.495228  \n",
              "13       0.442150  "
            ],
            "text/html": [
              "\n",
              "  <div id=\"df-c777c30c-d982-459b-95d7-9e41e067bbea\">\n",
              "    <div class=\"colab-df-container\">\n",
              "      <div>\n",
              "<style scoped>\n",
              "    .dataframe tbody tr th:only-of-type {\n",
              "        vertical-align: middle;\n",
              "    }\n",
              "\n",
              "    .dataframe tbody tr th {\n",
              "        vertical-align: top;\n",
              "    }\n",
              "\n",
              "    .dataframe thead th {\n",
              "        text-align: right;\n",
              "    }\n",
              "</style>\n",
              "<table border=\"1\" class=\"dataframe\">\n",
              "  <thead>\n",
              "    <tr style=\"text-align: right;\">\n",
              "      <th></th>\n",
              "      <th>links</th>\n",
              "      <th>article</th>\n",
              "      <th>length</th>\n",
              "      <th>clean_article</th>\n",
              "      <th>prediction_cnn</th>\n",
              "      <th>prediction_lr</th>\n",
              "    </tr>\n",
              "  </thead>\n",
              "  <tbody>\n",
              "    <tr>\n",
              "      <th>0</th>\n",
              "      <td>https://www.dawn.com/news/1728229/kse-100-shar...</td>\n",
              "      <td>\\n\\nChart by Rehan Ahmed\\n\\n \\nPublished in Da...</td>\n",
              "      <td>82</td>\n",
              "      <td>chart by rehan ahmed published in dawn the bus...</td>\n",
              "      <td>0.890970</td>\n",
              "      <td>0.651984</td>\n",
              "    </tr>\n",
              "    <tr>\n",
              "      <th>1</th>\n",
              "      <td>https://www.dawn.com/news/1728227/rupee-report...</td>\n",
              "      <td>\\n\\nChart by RA\\n\\n \\nPublished in Dawn, The B...</td>\n",
              "      <td>73</td>\n",
              "      <td>chart by ra published in dawn the business and...</td>\n",
              "      <td>0.898609</td>\n",
              "      <td>0.647016</td>\n",
              "    </tr>\n",
              "    <tr>\n",
              "      <th>2</th>\n",
              "      <td>https://www.dawn.com/news/1728224/company-news</td>\n",
              "      <td>Co-branded lubricant products\\nHyundai Nishat ...</td>\n",
              "      <td>4382</td>\n",
              "      <td>co branded lubricant products hyundai nishat m...</td>\n",
              "      <td>0.976595</td>\n",
              "      <td>0.700881</td>\n",
              "    </tr>\n",
              "    <tr>\n",
              "      <th>3</th>\n",
              "      <td>https://www.dawn.com/news/1728222/tracing-the-...</td>\n",
              "      <td>We, as a nation, produce much less than we con...</td>\n",
              "      <td>6019</td>\n",
              "      <td>we as nation produce much less than we consume...</td>\n",
              "      <td>0.139047</td>\n",
              "      <td>0.398275</td>\n",
              "    </tr>\n",
              "    <tr>\n",
              "      <th>4</th>\n",
              "      <td>https://www.dawn.com/news/1728218/fishing-for-...</td>\n",
              "      <td>Pakistan’s fish and fish preparations exports ...</td>\n",
              "      <td>5869</td>\n",
              "      <td>pakistan fish and fish preparations exports ha...</td>\n",
              "      <td>0.647771</td>\n",
              "      <td>0.484821</td>\n",
              "    </tr>\n",
              "    <tr>\n",
              "      <th>5</th>\n",
              "      <td>https://www.dawn.com/news/1728236/saving-water...</td>\n",
              "      <td>There was a time when you could step into the ...</td>\n",
              "      <td>4752</td>\n",
              "      <td>there was time when you could step into the ba...</td>\n",
              "      <td>0.578411</td>\n",
              "      <td>0.491548</td>\n",
              "    </tr>\n",
              "    <tr>\n",
              "      <th>6</th>\n",
              "      <td>https://www.dawn.com/news/1728235/troubles-lur...</td>\n",
              "      <td>Pakistan will head into 2023 with an incredibl...</td>\n",
              "      <td>5927</td>\n",
              "      <td>pakistan will head into with an incredibly glo...</td>\n",
              "      <td>0.266991</td>\n",
              "      <td>0.361986</td>\n",
              "    </tr>\n",
              "    <tr>\n",
              "      <th>7</th>\n",
              "      <td>https://www.dawn.com/news/1728234/why-is-pakis...</td>\n",
              "      <td>According to many agricultural economists, cur...</td>\n",
              "      <td>7000</td>\n",
              "      <td>according to many agricultural economists curr...</td>\n",
              "      <td>0.392436</td>\n",
              "      <td>0.575711</td>\n",
              "    </tr>\n",
              "    <tr>\n",
              "      <th>8</th>\n",
              "      <td>https://www.dawn.com/news/1728231/finance-igno...</td>\n",
              "      <td>Pakistan is facing a severe foreign exchange c...</td>\n",
              "      <td>5108</td>\n",
              "      <td>pakistan is facing severe foreign exchange cri...</td>\n",
              "      <td>0.145130</td>\n",
              "      <td>0.434884</td>\n",
              "    </tr>\n",
              "    <tr>\n",
              "      <th>9</th>\n",
              "      <td>https://www.dawn.com/news/1728225/short-sighte...</td>\n",
              "      <td>Pakistan has not run out of gas overnight. At ...</td>\n",
              "      <td>6052</td>\n",
              "      <td>pakistan has not run out of gas overnight at t...</td>\n",
              "      <td>0.145710</td>\n",
              "      <td>0.493891</td>\n",
              "    </tr>\n",
              "    <tr>\n",
              "      <th>10</th>\n",
              "      <td>https://www.dawn.com/news/1728223/corporate-wi...</td>\n",
              "      <td>It’s good that Prime Minister Shahbaz’s econom...</td>\n",
              "      <td>6492</td>\n",
              "      <td>it good that prime minister shahbaz economic t...</td>\n",
              "      <td>0.230138</td>\n",
              "      <td>0.360356</td>\n",
              "    </tr>\n",
              "    <tr>\n",
              "      <th>11</th>\n",
              "      <td>https://www.dawn.com/news/1728221/why-female-f...</td>\n",
              "      <td>Pakistan’s financial inclusion numbers are the...</td>\n",
              "      <td>1977</td>\n",
              "      <td>pakistan financial inclusion numbers are the w...</td>\n",
              "      <td>0.594328</td>\n",
              "      <td>0.636214</td>\n",
              "    </tr>\n",
              "    <tr>\n",
              "      <th>12</th>\n",
              "      <td>https://www.dawn.com/news/1728220/data-points</td>\n",
              "      <td>The stigma of menopause\\nFor half the global p...</td>\n",
              "      <td>4255</td>\n",
              "      <td>the stigma of menopause for half the global po...</td>\n",
              "      <td>0.275516</td>\n",
              "      <td>0.495228</td>\n",
              "    </tr>\n",
              "    <tr>\n",
              "      <th>13</th>\n",
              "      <td>https://www.dawn.com/news/1728219/at-the-termi...</td>\n",
              "      <td>The cancerous disease of Pakistan’s power mark...</td>\n",
              "      <td>6014</td>\n",
              "      <td>the cancerous disease of pakistan power market...</td>\n",
              "      <td>0.200950</td>\n",
              "      <td>0.442150</td>\n",
              "    </tr>\n",
              "  </tbody>\n",
              "</table>\n",
              "</div>\n",
              "      <button class=\"colab-df-convert\" onclick=\"convertToInteractive('df-c777c30c-d982-459b-95d7-9e41e067bbea')\"\n",
              "              title=\"Convert this dataframe to an interactive table.\"\n",
              "              style=\"display:none;\">\n",
              "        \n",
              "  <svg xmlns=\"http://www.w3.org/2000/svg\" height=\"24px\"viewBox=\"0 0 24 24\"\n",
              "       width=\"24px\">\n",
              "    <path d=\"M0 0h24v24H0V0z\" fill=\"none\"/>\n",
              "    <path d=\"M18.56 5.44l.94 2.06.94-2.06 2.06-.94-2.06-.94-.94-2.06-.94 2.06-2.06.94zm-11 1L8.5 8.5l.94-2.06 2.06-.94-2.06-.94L8.5 2.5l-.94 2.06-2.06.94zm10 10l.94 2.06.94-2.06 2.06-.94-2.06-.94-.94-2.06-.94 2.06-2.06.94z\"/><path d=\"M17.41 7.96l-1.37-1.37c-.4-.4-.92-.59-1.43-.59-.52 0-1.04.2-1.43.59L10.3 9.45l-7.72 7.72c-.78.78-.78 2.05 0 2.83L4 21.41c.39.39.9.59 1.41.59.51 0 1.02-.2 1.41-.59l7.78-7.78 2.81-2.81c.8-.78.8-2.07 0-2.86zM5.41 20L4 18.59l7.72-7.72 1.47 1.35L5.41 20z\"/>\n",
              "  </svg>\n",
              "      </button>\n",
              "      \n",
              "  <style>\n",
              "    .colab-df-container {\n",
              "      display:flex;\n",
              "      flex-wrap:wrap;\n",
              "      gap: 12px;\n",
              "    }\n",
              "\n",
              "    .colab-df-convert {\n",
              "      background-color: #E8F0FE;\n",
              "      border: none;\n",
              "      border-radius: 50%;\n",
              "      cursor: pointer;\n",
              "      display: none;\n",
              "      fill: #1967D2;\n",
              "      height: 32px;\n",
              "      padding: 0 0 0 0;\n",
              "      width: 32px;\n",
              "    }\n",
              "\n",
              "    .colab-df-convert:hover {\n",
              "      background-color: #E2EBFA;\n",
              "      box-shadow: 0px 1px 2px rgba(60, 64, 67, 0.3), 0px 1px 3px 1px rgba(60, 64, 67, 0.15);\n",
              "      fill: #174EA6;\n",
              "    }\n",
              "\n",
              "    [theme=dark] .colab-df-convert {\n",
              "      background-color: #3B4455;\n",
              "      fill: #D2E3FC;\n",
              "    }\n",
              "\n",
              "    [theme=dark] .colab-df-convert:hover {\n",
              "      background-color: #434B5C;\n",
              "      box-shadow: 0px 1px 3px 1px rgba(0, 0, 0, 0.15);\n",
              "      filter: drop-shadow(0px 1px 2px rgba(0, 0, 0, 0.3));\n",
              "      fill: #FFFFFF;\n",
              "    }\n",
              "  </style>\n",
              "\n",
              "      <script>\n",
              "        const buttonEl =\n",
              "          document.querySelector('#df-c777c30c-d982-459b-95d7-9e41e067bbea button.colab-df-convert');\n",
              "        buttonEl.style.display =\n",
              "          google.colab.kernel.accessAllowed ? 'block' : 'none';\n",
              "\n",
              "        async function convertToInteractive(key) {\n",
              "          const element = document.querySelector('#df-c777c30c-d982-459b-95d7-9e41e067bbea');\n",
              "          const dataTable =\n",
              "            await google.colab.kernel.invokeFunction('convertToInteractive',\n",
              "                                                     [key], {});\n",
              "          if (!dataTable) return;\n",
              "\n",
              "          const docLinkHtml = 'Like what you see? Visit the ' +\n",
              "            '<a target=\"_blank\" href=https://colab.research.google.com/notebooks/data_table.ipynb>data table notebook</a>'\n",
              "            + ' to learn more about interactive tables.';\n",
              "          element.innerHTML = '';\n",
              "          dataTable['output_type'] = 'display_data';\n",
              "          await google.colab.output.renderOutput(dataTable, element);\n",
              "          const docLink = document.createElement('div');\n",
              "          docLink.innerHTML = docLinkHtml;\n",
              "          element.appendChild(docLink);\n",
              "        }\n",
              "      </script>\n",
              "    </div>\n",
              "  </div>\n",
              "  "
            ]
          },
          "metadata": {},
          "execution_count": 176
        }
      ]
    },
    {
      "cell_type": "code",
      "source": [
        "weekly_dict[list(weekly_dict.keys())[2]]"
      ],
      "metadata": {
        "colab": {
          "base_uri": "https://localhost:8080/",
          "height": 483
        },
        "id": "RsLgs8vV5S9Y",
        "outputId": "7b22fb56-6674-4905-ed8f-b96ffbc8a2e2"
      },
      "execution_count": 177,
      "outputs": [
        {
          "output_type": "execute_result",
          "data": {
            "text/plain": [
              "                                               links  \\\n",
              "0  https://www.dawn.com/news/1728120/exports-to-m...   \n",
              "1  https://www.dawn.com/news/1728119/fighting-cli...   \n",
              "2  https://www.dawn.com/news/1728118/alvi-wants-m...   \n",
              "3  https://www.dawn.com/news/1728117/ecb-must-be-...   \n",
              "4  https://www.dawn.com/news/1728116/india-should...   \n",
              "5  https://www.dawn.com/news/1728115/german-infla...   \n",
              "6  https://www.dawn.com/news/1728114/political-no...   \n",
              "7  https://www.dawn.com/news/1728113/tesla-suspen...   \n",
              "\n",
              "                                             article  length  \\\n",
              "0  ISLAMABAD: Pakistan’s exports to the Middle Ea...    2399   \n",
              "1  KARACHI: When the master of ceremonies opened ...    2718   \n",
              "2  KARACHI: President Dr Arif Alvi on Saturday ur...    1917   \n",
              "3  FRANKFURT: The European Central Bank must be p...    1201   \n",
              "4  NEW DELHI: India’s future interest rate hikes ...    2376   \n",
              "5  BERLIN: Inflation is likely to remain high for...    1855   \n",
              "6  KARACHI: The stock market remained bearish in ...    2328   \n",
              "7  SHANGHAI: Tesla suspended production at its Sh...    1747   \n",
              "\n",
              "                                       clean_article  prediction_cnn  \\\n",
              "0  islamabad pakistan exports to the middle east ...        0.499342   \n",
              "1  karachi when the master of ceremonies opened t...        0.786505   \n",
              "2  karachi president dr arif alvi on saturday urg...        0.965394   \n",
              "3  frankfurt the european central bank must be pr...        0.312856   \n",
              "4  new delhi india future interest rate hikes sho...        0.363624   \n",
              "5  berlin inflation is likely to remain high for ...        0.257058   \n",
              "6  karachi the stock market remained bearish in t...        0.414606   \n",
              "7  shanghai tesla suspended production at its sha...        0.641701   \n",
              "\n",
              "   prediction_lr  \n",
              "0       0.493647  \n",
              "1       0.616363  \n",
              "2       0.719767  \n",
              "3       0.504835  \n",
              "4       0.520778  \n",
              "5       0.513189  \n",
              "6       0.397933  \n",
              "7       0.590547  "
            ],
            "text/html": [
              "\n",
              "  <div id=\"df-c8219b00-ccdc-4db4-a108-057943cbf8bd\">\n",
              "    <div class=\"colab-df-container\">\n",
              "      <div>\n",
              "<style scoped>\n",
              "    .dataframe tbody tr th:only-of-type {\n",
              "        vertical-align: middle;\n",
              "    }\n",
              "\n",
              "    .dataframe tbody tr th {\n",
              "        vertical-align: top;\n",
              "    }\n",
              "\n",
              "    .dataframe thead th {\n",
              "        text-align: right;\n",
              "    }\n",
              "</style>\n",
              "<table border=\"1\" class=\"dataframe\">\n",
              "  <thead>\n",
              "    <tr style=\"text-align: right;\">\n",
              "      <th></th>\n",
              "      <th>links</th>\n",
              "      <th>article</th>\n",
              "      <th>length</th>\n",
              "      <th>clean_article</th>\n",
              "      <th>prediction_cnn</th>\n",
              "      <th>prediction_lr</th>\n",
              "    </tr>\n",
              "  </thead>\n",
              "  <tbody>\n",
              "    <tr>\n",
              "      <th>0</th>\n",
              "      <td>https://www.dawn.com/news/1728120/exports-to-m...</td>\n",
              "      <td>ISLAMABAD: Pakistan’s exports to the Middle Ea...</td>\n",
              "      <td>2399</td>\n",
              "      <td>islamabad pakistan exports to the middle east ...</td>\n",
              "      <td>0.499342</td>\n",
              "      <td>0.493647</td>\n",
              "    </tr>\n",
              "    <tr>\n",
              "      <th>1</th>\n",
              "      <td>https://www.dawn.com/news/1728119/fighting-cli...</td>\n",
              "      <td>KARACHI: When the master of ceremonies opened ...</td>\n",
              "      <td>2718</td>\n",
              "      <td>karachi when the master of ceremonies opened t...</td>\n",
              "      <td>0.786505</td>\n",
              "      <td>0.616363</td>\n",
              "    </tr>\n",
              "    <tr>\n",
              "      <th>2</th>\n",
              "      <td>https://www.dawn.com/news/1728118/alvi-wants-m...</td>\n",
              "      <td>KARACHI: President Dr Arif Alvi on Saturday ur...</td>\n",
              "      <td>1917</td>\n",
              "      <td>karachi president dr arif alvi on saturday urg...</td>\n",
              "      <td>0.965394</td>\n",
              "      <td>0.719767</td>\n",
              "    </tr>\n",
              "    <tr>\n",
              "      <th>3</th>\n",
              "      <td>https://www.dawn.com/news/1728117/ecb-must-be-...</td>\n",
              "      <td>FRANKFURT: The European Central Bank must be p...</td>\n",
              "      <td>1201</td>\n",
              "      <td>frankfurt the european central bank must be pr...</td>\n",
              "      <td>0.312856</td>\n",
              "      <td>0.504835</td>\n",
              "    </tr>\n",
              "    <tr>\n",
              "      <th>4</th>\n",
              "      <td>https://www.dawn.com/news/1728116/india-should...</td>\n",
              "      <td>NEW DELHI: India’s future interest rate hikes ...</td>\n",
              "      <td>2376</td>\n",
              "      <td>new delhi india future interest rate hikes sho...</td>\n",
              "      <td>0.363624</td>\n",
              "      <td>0.520778</td>\n",
              "    </tr>\n",
              "    <tr>\n",
              "      <th>5</th>\n",
              "      <td>https://www.dawn.com/news/1728115/german-infla...</td>\n",
              "      <td>BERLIN: Inflation is likely to remain high for...</td>\n",
              "      <td>1855</td>\n",
              "      <td>berlin inflation is likely to remain high for ...</td>\n",
              "      <td>0.257058</td>\n",
              "      <td>0.513189</td>\n",
              "    </tr>\n",
              "    <tr>\n",
              "      <th>6</th>\n",
              "      <td>https://www.dawn.com/news/1728114/political-no...</td>\n",
              "      <td>KARACHI: The stock market remained bearish in ...</td>\n",
              "      <td>2328</td>\n",
              "      <td>karachi the stock market remained bearish in t...</td>\n",
              "      <td>0.414606</td>\n",
              "      <td>0.397933</td>\n",
              "    </tr>\n",
              "    <tr>\n",
              "      <th>7</th>\n",
              "      <td>https://www.dawn.com/news/1728113/tesla-suspen...</td>\n",
              "      <td>SHANGHAI: Tesla suspended production at its Sh...</td>\n",
              "      <td>1747</td>\n",
              "      <td>shanghai tesla suspended production at its sha...</td>\n",
              "      <td>0.641701</td>\n",
              "      <td>0.590547</td>\n",
              "    </tr>\n",
              "  </tbody>\n",
              "</table>\n",
              "</div>\n",
              "      <button class=\"colab-df-convert\" onclick=\"convertToInteractive('df-c8219b00-ccdc-4db4-a108-057943cbf8bd')\"\n",
              "              title=\"Convert this dataframe to an interactive table.\"\n",
              "              style=\"display:none;\">\n",
              "        \n",
              "  <svg xmlns=\"http://www.w3.org/2000/svg\" height=\"24px\"viewBox=\"0 0 24 24\"\n",
              "       width=\"24px\">\n",
              "    <path d=\"M0 0h24v24H0V0z\" fill=\"none\"/>\n",
              "    <path d=\"M18.56 5.44l.94 2.06.94-2.06 2.06-.94-2.06-.94-.94-2.06-.94 2.06-2.06.94zm-11 1L8.5 8.5l.94-2.06 2.06-.94-2.06-.94L8.5 2.5l-.94 2.06-2.06.94zm10 10l.94 2.06.94-2.06 2.06-.94-2.06-.94-.94-2.06-.94 2.06-2.06.94z\"/><path d=\"M17.41 7.96l-1.37-1.37c-.4-.4-.92-.59-1.43-.59-.52 0-1.04.2-1.43.59L10.3 9.45l-7.72 7.72c-.78.78-.78 2.05 0 2.83L4 21.41c.39.39.9.59 1.41.59.51 0 1.02-.2 1.41-.59l7.78-7.78 2.81-2.81c.8-.78.8-2.07 0-2.86zM5.41 20L4 18.59l7.72-7.72 1.47 1.35L5.41 20z\"/>\n",
              "  </svg>\n",
              "      </button>\n",
              "      \n",
              "  <style>\n",
              "    .colab-df-container {\n",
              "      display:flex;\n",
              "      flex-wrap:wrap;\n",
              "      gap: 12px;\n",
              "    }\n",
              "\n",
              "    .colab-df-convert {\n",
              "      background-color: #E8F0FE;\n",
              "      border: none;\n",
              "      border-radius: 50%;\n",
              "      cursor: pointer;\n",
              "      display: none;\n",
              "      fill: #1967D2;\n",
              "      height: 32px;\n",
              "      padding: 0 0 0 0;\n",
              "      width: 32px;\n",
              "    }\n",
              "\n",
              "    .colab-df-convert:hover {\n",
              "      background-color: #E2EBFA;\n",
              "      box-shadow: 0px 1px 2px rgba(60, 64, 67, 0.3), 0px 1px 3px 1px rgba(60, 64, 67, 0.15);\n",
              "      fill: #174EA6;\n",
              "    }\n",
              "\n",
              "    [theme=dark] .colab-df-convert {\n",
              "      background-color: #3B4455;\n",
              "      fill: #D2E3FC;\n",
              "    }\n",
              "\n",
              "    [theme=dark] .colab-df-convert:hover {\n",
              "      background-color: #434B5C;\n",
              "      box-shadow: 0px 1px 3px 1px rgba(0, 0, 0, 0.15);\n",
              "      filter: drop-shadow(0px 1px 2px rgba(0, 0, 0, 0.3));\n",
              "      fill: #FFFFFF;\n",
              "    }\n",
              "  </style>\n",
              "\n",
              "      <script>\n",
              "        const buttonEl =\n",
              "          document.querySelector('#df-c8219b00-ccdc-4db4-a108-057943cbf8bd button.colab-df-convert');\n",
              "        buttonEl.style.display =\n",
              "          google.colab.kernel.accessAllowed ? 'block' : 'none';\n",
              "\n",
              "        async function convertToInteractive(key) {\n",
              "          const element = document.querySelector('#df-c8219b00-ccdc-4db4-a108-057943cbf8bd');\n",
              "          const dataTable =\n",
              "            await google.colab.kernel.invokeFunction('convertToInteractive',\n",
              "                                                     [key], {});\n",
              "          if (!dataTable) return;\n",
              "\n",
              "          const docLinkHtml = 'Like what you see? Visit the ' +\n",
              "            '<a target=\"_blank\" href=https://colab.research.google.com/notebooks/data_table.ipynb>data table notebook</a>'\n",
              "            + ' to learn more about interactive tables.';\n",
              "          element.innerHTML = '';\n",
              "          dataTable['output_type'] = 'display_data';\n",
              "          await google.colab.output.renderOutput(dataTable, element);\n",
              "          const docLink = document.createElement('div');\n",
              "          docLink.innerHTML = docLinkHtml;\n",
              "          element.appendChild(docLink);\n",
              "        }\n",
              "      </script>\n",
              "    </div>\n",
              "  </div>\n",
              "  "
            ]
          },
          "metadata": {},
          "execution_count": 177
        }
      ]
    },
    {
      "cell_type": "code",
      "source": [
        "print(avg_df.index[0])\n",
        "print(KSE100.index[4])\n",
        "avg_df.index[0] == KSE100.index[4]"
      ],
      "metadata": {
        "colab": {
          "base_uri": "https://localhost:8080/"
        },
        "id": "VvOR9UtWkeGW",
        "outputId": "24d76a31-5c5f-44b7-fd60-5abbdd3da314"
      },
      "execution_count": 178,
      "outputs": [
        {
          "output_type": "stream",
          "name": "stdout",
          "text": [
            "2022-12-27 00:00:00\n",
            "2022-12-27 00:00:00\n"
          ]
        },
        {
          "output_type": "execute_result",
          "data": {
            "text/plain": [
              "True"
            ]
          },
          "metadata": {},
          "execution_count": 178
        }
      ]
    },
    {
      "cell_type": "code",
      "source": [
        "KSE100.iloc[4:7]"
      ],
      "metadata": {
        "colab": {
          "base_uri": "https://localhost:8080/",
          "height": 175
        },
        "id": "TFzrzwt6ywDl",
        "outputId": "bcb810cf-e618-4f87-921e-8d75bc85f9c2"
      },
      "execution_count": 140,
      "outputs": [
        {
          "output_type": "execute_result",
          "data": {
            "text/plain": [
              "            Change Percentage\n",
              "Date                         \n",
              "2022-12-27           0.047452\n",
              "2022-12-26           0.043582\n",
              "2022-12-23           0.173264"
            ],
            "text/html": [
              "\n",
              "  <div id=\"df-da656e1f-6370-405d-99c0-ce059bf95f41\">\n",
              "    <div class=\"colab-df-container\">\n",
              "      <div>\n",
              "<style scoped>\n",
              "    .dataframe tbody tr th:only-of-type {\n",
              "        vertical-align: middle;\n",
              "    }\n",
              "\n",
              "    .dataframe tbody tr th {\n",
              "        vertical-align: top;\n",
              "    }\n",
              "\n",
              "    .dataframe thead th {\n",
              "        text-align: right;\n",
              "    }\n",
              "</style>\n",
              "<table border=\"1\" class=\"dataframe\">\n",
              "  <thead>\n",
              "    <tr style=\"text-align: right;\">\n",
              "      <th></th>\n",
              "      <th>Change Percentage</th>\n",
              "    </tr>\n",
              "    <tr>\n",
              "      <th>Date</th>\n",
              "      <th></th>\n",
              "    </tr>\n",
              "  </thead>\n",
              "  <tbody>\n",
              "    <tr>\n",
              "      <th>2022-12-27</th>\n",
              "      <td>0.047452</td>\n",
              "    </tr>\n",
              "    <tr>\n",
              "      <th>2022-12-26</th>\n",
              "      <td>0.043582</td>\n",
              "    </tr>\n",
              "    <tr>\n",
              "      <th>2022-12-23</th>\n",
              "      <td>0.173264</td>\n",
              "    </tr>\n",
              "  </tbody>\n",
              "</table>\n",
              "</div>\n",
              "      <button class=\"colab-df-convert\" onclick=\"convertToInteractive('df-da656e1f-6370-405d-99c0-ce059bf95f41')\"\n",
              "              title=\"Convert this dataframe to an interactive table.\"\n",
              "              style=\"display:none;\">\n",
              "        \n",
              "  <svg xmlns=\"http://www.w3.org/2000/svg\" height=\"24px\"viewBox=\"0 0 24 24\"\n",
              "       width=\"24px\">\n",
              "    <path d=\"M0 0h24v24H0V0z\" fill=\"none\"/>\n",
              "    <path d=\"M18.56 5.44l.94 2.06.94-2.06 2.06-.94-2.06-.94-.94-2.06-.94 2.06-2.06.94zm-11 1L8.5 8.5l.94-2.06 2.06-.94-2.06-.94L8.5 2.5l-.94 2.06-2.06.94zm10 10l.94 2.06.94-2.06 2.06-.94-2.06-.94-.94-2.06-.94 2.06-2.06.94z\"/><path d=\"M17.41 7.96l-1.37-1.37c-.4-.4-.92-.59-1.43-.59-.52 0-1.04.2-1.43.59L10.3 9.45l-7.72 7.72c-.78.78-.78 2.05 0 2.83L4 21.41c.39.39.9.59 1.41.59.51 0 1.02-.2 1.41-.59l7.78-7.78 2.81-2.81c.8-.78.8-2.07 0-2.86zM5.41 20L4 18.59l7.72-7.72 1.47 1.35L5.41 20z\"/>\n",
              "  </svg>\n",
              "      </button>\n",
              "      \n",
              "  <style>\n",
              "    .colab-df-container {\n",
              "      display:flex;\n",
              "      flex-wrap:wrap;\n",
              "      gap: 12px;\n",
              "    }\n",
              "\n",
              "    .colab-df-convert {\n",
              "      background-color: #E8F0FE;\n",
              "      border: none;\n",
              "      border-radius: 50%;\n",
              "      cursor: pointer;\n",
              "      display: none;\n",
              "      fill: #1967D2;\n",
              "      height: 32px;\n",
              "      padding: 0 0 0 0;\n",
              "      width: 32px;\n",
              "    }\n",
              "\n",
              "    .colab-df-convert:hover {\n",
              "      background-color: #E2EBFA;\n",
              "      box-shadow: 0px 1px 2px rgba(60, 64, 67, 0.3), 0px 1px 3px 1px rgba(60, 64, 67, 0.15);\n",
              "      fill: #174EA6;\n",
              "    }\n",
              "\n",
              "    [theme=dark] .colab-df-convert {\n",
              "      background-color: #3B4455;\n",
              "      fill: #D2E3FC;\n",
              "    }\n",
              "\n",
              "    [theme=dark] .colab-df-convert:hover {\n",
              "      background-color: #434B5C;\n",
              "      box-shadow: 0px 1px 3px 1px rgba(0, 0, 0, 0.15);\n",
              "      filter: drop-shadow(0px 1px 2px rgba(0, 0, 0, 0.3));\n",
              "      fill: #FFFFFF;\n",
              "    }\n",
              "  </style>\n",
              "\n",
              "      <script>\n",
              "        const buttonEl =\n",
              "          document.querySelector('#df-da656e1f-6370-405d-99c0-ce059bf95f41 button.colab-df-convert');\n",
              "        buttonEl.style.display =\n",
              "          google.colab.kernel.accessAllowed ? 'block' : 'none';\n",
              "\n",
              "        async function convertToInteractive(key) {\n",
              "          const element = document.querySelector('#df-da656e1f-6370-405d-99c0-ce059bf95f41');\n",
              "          const dataTable =\n",
              "            await google.colab.kernel.invokeFunction('convertToInteractive',\n",
              "                                                     [key], {});\n",
              "          if (!dataTable) return;\n",
              "\n",
              "          const docLinkHtml = 'Like what you see? Visit the ' +\n",
              "            '<a target=\"_blank\" href=https://colab.research.google.com/notebooks/data_table.ipynb>data table notebook</a>'\n",
              "            + ' to learn more about interactive tables.';\n",
              "          element.innerHTML = '';\n",
              "          dataTable['output_type'] = 'display_data';\n",
              "          await google.colab.output.renderOutput(dataTable, element);\n",
              "          const docLink = document.createElement('div');\n",
              "          docLink.innerHTML = docLinkHtml;\n",
              "          element.appendChild(docLink);\n",
              "        }\n",
              "      </script>\n",
              "    </div>\n",
              "  </div>\n",
              "  "
            ]
          },
          "metadata": {},
          "execution_count": 140
        }
      ]
    },
    {
      "cell_type": "code",
      "source": [
        "# import requests\n",
        "# from random import randint\n",
        "\n",
        "# SCRAPEOPS_API_KEY = '67b1b121-48fa-4f65-b22a-910c89b9d5d2'\n",
        "\n",
        "# def get_headers_list():\n",
        "#   response = requests.get('http://headers.scrapeops.io/v1/browser-headers?api_key=' + SCRAPEOPS_API_KEY)\n",
        "#   # response = requests.get(url='https://headers.scrapeops.io/v1/browser-headers', params={'api_key': '67b1b121-48fa-4f65-b22a-910c89b9d5d2', 'num_headers': '15'})\n",
        "#   json_response = response.json()\n",
        "#   return json_response.get('result', [])\n",
        "\n",
        "# def get_random_header(header_list):\n",
        "#   random_index = randint(0, len(header_list) - 1)\n",
        "#   return header_list[random_index]\n",
        "\n",
        "# header_list = get_headers_list()"
      ],
      "metadata": {
        "id": "kHEyhX7NCXkV"
      },
      "execution_count": 54,
      "outputs": []
    }
  ],
  "metadata": {
    "kernelspec": {
      "display_name": "Python 2",
      "language": "python",
      "name": "python2"
    },
    "language_info": {
      "codemirror_mode": {
        "name": "ipython",
        "version": 2
      },
      "file_extension": ".py",
      "mimetype": "text/x-python",
      "name": "python",
      "nbconvert_exporter": "python",
      "pygments_lexer": "ipython2",
      "version": "2.7.13"
    },
    "colab": {
      "provenance": []
    },
    "widgets": {
      "application/vnd.jupyter.widget-state+json": {
        "e72b32f1580846069d194e8298e5b191": {
          "model_module": "@jupyter-widgets/controls",
          "model_name": "HBoxModel",
          "model_module_version": "1.5.0",
          "state": {
            "_dom_classes": [],
            "_model_module": "@jupyter-widgets/controls",
            "_model_module_version": "1.5.0",
            "_model_name": "HBoxModel",
            "_view_count": null,
            "_view_module": "@jupyter-widgets/controls",
            "_view_module_version": "1.5.0",
            "_view_name": "HBoxView",
            "box_style": "",
            "children": [
              "IPY_MODEL_51bbdd25d624441bb2350ff662b6405c",
              "IPY_MODEL_d20e02273a1f40af8ef6034f47de75fd",
              "IPY_MODEL_7e220dfd38bf4f868ee07ba4c49e9ff7"
            ],
            "layout": "IPY_MODEL_9b264299e82d4b73830e5f12855aa0f1"
          }
        },
        "51bbdd25d624441bb2350ff662b6405c": {
          "model_module": "@jupyter-widgets/controls",
          "model_name": "HTMLModel",
          "model_module_version": "1.5.0",
          "state": {
            "_dom_classes": [],
            "_model_module": "@jupyter-widgets/controls",
            "_model_module_version": "1.5.0",
            "_model_name": "HTMLModel",
            "_view_count": null,
            "_view_module": "@jupyter-widgets/controls",
            "_view_module_version": "1.5.0",
            "_view_name": "HTMLView",
            "description": "",
            "description_tooltip": null,
            "layout": "IPY_MODEL_c173ba5d546b4450ad5829d3a103d7a1",
            "placeholder": "​",
            "style": "IPY_MODEL_efec5113c6ef4f46adfd71a8e8def7be",
            "value": "100%"
          }
        },
        "d20e02273a1f40af8ef6034f47de75fd": {
          "model_module": "@jupyter-widgets/controls",
          "model_name": "FloatProgressModel",
          "model_module_version": "1.5.0",
          "state": {
            "_dom_classes": [],
            "_model_module": "@jupyter-widgets/controls",
            "_model_module_version": "1.5.0",
            "_model_name": "FloatProgressModel",
            "_view_count": null,
            "_view_module": "@jupyter-widgets/controls",
            "_view_module_version": "1.5.0",
            "_view_name": "ProgressView",
            "bar_style": "success",
            "description": "",
            "description_tooltip": null,
            "layout": "IPY_MODEL_4f24d0cc0aae48ed940fc800692afd4f",
            "max": 7,
            "min": 0,
            "orientation": "horizontal",
            "style": "IPY_MODEL_d4b4f892c3c949f281139633331f2680",
            "value": 7
          }
        },
        "7e220dfd38bf4f868ee07ba4c49e9ff7": {
          "model_module": "@jupyter-widgets/controls",
          "model_name": "HTMLModel",
          "model_module_version": "1.5.0",
          "state": {
            "_dom_classes": [],
            "_model_module": "@jupyter-widgets/controls",
            "_model_module_version": "1.5.0",
            "_model_name": "HTMLModel",
            "_view_count": null,
            "_view_module": "@jupyter-widgets/controls",
            "_view_module_version": "1.5.0",
            "_view_name": "HTMLView",
            "description": "",
            "description_tooltip": null,
            "layout": "IPY_MODEL_a2c7c14777ff43e094cc592f302124c0",
            "placeholder": "​",
            "style": "IPY_MODEL_37baf4de616b4cd78a8dc74a247f09ea",
            "value": " 7/7 [00:02&lt;00:00,  3.71it/s]"
          }
        },
        "9b264299e82d4b73830e5f12855aa0f1": {
          "model_module": "@jupyter-widgets/base",
          "model_name": "LayoutModel",
          "model_module_version": "1.2.0",
          "state": {
            "_model_module": "@jupyter-widgets/base",
            "_model_module_version": "1.2.0",
            "_model_name": "LayoutModel",
            "_view_count": null,
            "_view_module": "@jupyter-widgets/base",
            "_view_module_version": "1.2.0",
            "_view_name": "LayoutView",
            "align_content": null,
            "align_items": null,
            "align_self": null,
            "border": null,
            "bottom": null,
            "display": null,
            "flex": null,
            "flex_flow": null,
            "grid_area": null,
            "grid_auto_columns": null,
            "grid_auto_flow": null,
            "grid_auto_rows": null,
            "grid_column": null,
            "grid_gap": null,
            "grid_row": null,
            "grid_template_areas": null,
            "grid_template_columns": null,
            "grid_template_rows": null,
            "height": null,
            "justify_content": null,
            "justify_items": null,
            "left": null,
            "margin": null,
            "max_height": null,
            "max_width": null,
            "min_height": null,
            "min_width": null,
            "object_fit": null,
            "object_position": null,
            "order": null,
            "overflow": null,
            "overflow_x": null,
            "overflow_y": null,
            "padding": null,
            "right": null,
            "top": null,
            "visibility": null,
            "width": null
          }
        },
        "c173ba5d546b4450ad5829d3a103d7a1": {
          "model_module": "@jupyter-widgets/base",
          "model_name": "LayoutModel",
          "model_module_version": "1.2.0",
          "state": {
            "_model_module": "@jupyter-widgets/base",
            "_model_module_version": "1.2.0",
            "_model_name": "LayoutModel",
            "_view_count": null,
            "_view_module": "@jupyter-widgets/base",
            "_view_module_version": "1.2.0",
            "_view_name": "LayoutView",
            "align_content": null,
            "align_items": null,
            "align_self": null,
            "border": null,
            "bottom": null,
            "display": null,
            "flex": null,
            "flex_flow": null,
            "grid_area": null,
            "grid_auto_columns": null,
            "grid_auto_flow": null,
            "grid_auto_rows": null,
            "grid_column": null,
            "grid_gap": null,
            "grid_row": null,
            "grid_template_areas": null,
            "grid_template_columns": null,
            "grid_template_rows": null,
            "height": null,
            "justify_content": null,
            "justify_items": null,
            "left": null,
            "margin": null,
            "max_height": null,
            "max_width": null,
            "min_height": null,
            "min_width": null,
            "object_fit": null,
            "object_position": null,
            "order": null,
            "overflow": null,
            "overflow_x": null,
            "overflow_y": null,
            "padding": null,
            "right": null,
            "top": null,
            "visibility": null,
            "width": null
          }
        },
        "efec5113c6ef4f46adfd71a8e8def7be": {
          "model_module": "@jupyter-widgets/controls",
          "model_name": "DescriptionStyleModel",
          "model_module_version": "1.5.0",
          "state": {
            "_model_module": "@jupyter-widgets/controls",
            "_model_module_version": "1.5.0",
            "_model_name": "DescriptionStyleModel",
            "_view_count": null,
            "_view_module": "@jupyter-widgets/base",
            "_view_module_version": "1.2.0",
            "_view_name": "StyleView",
            "description_width": ""
          }
        },
        "4f24d0cc0aae48ed940fc800692afd4f": {
          "model_module": "@jupyter-widgets/base",
          "model_name": "LayoutModel",
          "model_module_version": "1.2.0",
          "state": {
            "_model_module": "@jupyter-widgets/base",
            "_model_module_version": "1.2.0",
            "_model_name": "LayoutModel",
            "_view_count": null,
            "_view_module": "@jupyter-widgets/base",
            "_view_module_version": "1.2.0",
            "_view_name": "LayoutView",
            "align_content": null,
            "align_items": null,
            "align_self": null,
            "border": null,
            "bottom": null,
            "display": null,
            "flex": null,
            "flex_flow": null,
            "grid_area": null,
            "grid_auto_columns": null,
            "grid_auto_flow": null,
            "grid_auto_rows": null,
            "grid_column": null,
            "grid_gap": null,
            "grid_row": null,
            "grid_template_areas": null,
            "grid_template_columns": null,
            "grid_template_rows": null,
            "height": null,
            "justify_content": null,
            "justify_items": null,
            "left": null,
            "margin": null,
            "max_height": null,
            "max_width": null,
            "min_height": null,
            "min_width": null,
            "object_fit": null,
            "object_position": null,
            "order": null,
            "overflow": null,
            "overflow_x": null,
            "overflow_y": null,
            "padding": null,
            "right": null,
            "top": null,
            "visibility": null,
            "width": null
          }
        },
        "d4b4f892c3c949f281139633331f2680": {
          "model_module": "@jupyter-widgets/controls",
          "model_name": "ProgressStyleModel",
          "model_module_version": "1.5.0",
          "state": {
            "_model_module": "@jupyter-widgets/controls",
            "_model_module_version": "1.5.0",
            "_model_name": "ProgressStyleModel",
            "_view_count": null,
            "_view_module": "@jupyter-widgets/base",
            "_view_module_version": "1.2.0",
            "_view_name": "StyleView",
            "bar_color": null,
            "description_width": ""
          }
        },
        "a2c7c14777ff43e094cc592f302124c0": {
          "model_module": "@jupyter-widgets/base",
          "model_name": "LayoutModel",
          "model_module_version": "1.2.0",
          "state": {
            "_model_module": "@jupyter-widgets/base",
            "_model_module_version": "1.2.0",
            "_model_name": "LayoutModel",
            "_view_count": null,
            "_view_module": "@jupyter-widgets/base",
            "_view_module_version": "1.2.0",
            "_view_name": "LayoutView",
            "align_content": null,
            "align_items": null,
            "align_self": null,
            "border": null,
            "bottom": null,
            "display": null,
            "flex": null,
            "flex_flow": null,
            "grid_area": null,
            "grid_auto_columns": null,
            "grid_auto_flow": null,
            "grid_auto_rows": null,
            "grid_column": null,
            "grid_gap": null,
            "grid_row": null,
            "grid_template_areas": null,
            "grid_template_columns": null,
            "grid_template_rows": null,
            "height": null,
            "justify_content": null,
            "justify_items": null,
            "left": null,
            "margin": null,
            "max_height": null,
            "max_width": null,
            "min_height": null,
            "min_width": null,
            "object_fit": null,
            "object_position": null,
            "order": null,
            "overflow": null,
            "overflow_x": null,
            "overflow_y": null,
            "padding": null,
            "right": null,
            "top": null,
            "visibility": null,
            "width": null
          }
        },
        "37baf4de616b4cd78a8dc74a247f09ea": {
          "model_module": "@jupyter-widgets/controls",
          "model_name": "DescriptionStyleModel",
          "model_module_version": "1.5.0",
          "state": {
            "_model_module": "@jupyter-widgets/controls",
            "_model_module_version": "1.5.0",
            "_model_name": "DescriptionStyleModel",
            "_view_count": null,
            "_view_module": "@jupyter-widgets/base",
            "_view_module_version": "1.2.0",
            "_view_name": "StyleView",
            "description_width": ""
          }
        },
        "56fa7a95f4df437cbb0b303008a166e1": {
          "model_module": "@jupyter-widgets/controls",
          "model_name": "HBoxModel",
          "model_module_version": "1.5.0",
          "state": {
            "_dom_classes": [],
            "_model_module": "@jupyter-widgets/controls",
            "_model_module_version": "1.5.0",
            "_model_name": "HBoxModel",
            "_view_count": null,
            "_view_module": "@jupyter-widgets/controls",
            "_view_module_version": "1.5.0",
            "_view_name": "HBoxView",
            "box_style": "",
            "children": [
              "IPY_MODEL_f7f726e6032949219eb484a7303f3646",
              "IPY_MODEL_1a38f3d4d1fb470ba8bc7b0f432afa43",
              "IPY_MODEL_2708ee46a2c94f02a600bd14e211cc2a"
            ],
            "layout": "IPY_MODEL_dc7ed0f6c3e9494b93a7d1c2c12cd02d"
          }
        },
        "f7f726e6032949219eb484a7303f3646": {
          "model_module": "@jupyter-widgets/controls",
          "model_name": "HTMLModel",
          "model_module_version": "1.5.0",
          "state": {
            "_dom_classes": [],
            "_model_module": "@jupyter-widgets/controls",
            "_model_module_version": "1.5.0",
            "_model_name": "HTMLModel",
            "_view_count": null,
            "_view_module": "@jupyter-widgets/controls",
            "_view_module_version": "1.5.0",
            "_view_name": "HTMLView",
            "description": "",
            "description_tooltip": null,
            "layout": "IPY_MODEL_e06639180b3a4d9b907dce85b05fb73c",
            "placeholder": "​",
            "style": "IPY_MODEL_48c662fc761d4cc09c41870b4cda674f",
            "value": "100%"
          }
        },
        "1a38f3d4d1fb470ba8bc7b0f432afa43": {
          "model_module": "@jupyter-widgets/controls",
          "model_name": "FloatProgressModel",
          "model_module_version": "1.5.0",
          "state": {
            "_dom_classes": [],
            "_model_module": "@jupyter-widgets/controls",
            "_model_module_version": "1.5.0",
            "_model_name": "FloatProgressModel",
            "_view_count": null,
            "_view_module": "@jupyter-widgets/controls",
            "_view_module_version": "1.5.0",
            "_view_name": "ProgressView",
            "bar_style": "success",
            "description": "",
            "description_tooltip": null,
            "layout": "IPY_MODEL_642ae3f97ee54c2a8d787a0230382210",
            "max": 14,
            "min": 0,
            "orientation": "horizontal",
            "style": "IPY_MODEL_351fda574c5545bf976265c3e6c1d0aa",
            "value": 14
          }
        },
        "2708ee46a2c94f02a600bd14e211cc2a": {
          "model_module": "@jupyter-widgets/controls",
          "model_name": "HTMLModel",
          "model_module_version": "1.5.0",
          "state": {
            "_dom_classes": [],
            "_model_module": "@jupyter-widgets/controls",
            "_model_module_version": "1.5.0",
            "_model_name": "HTMLModel",
            "_view_count": null,
            "_view_module": "@jupyter-widgets/controls",
            "_view_module_version": "1.5.0",
            "_view_name": "HTMLView",
            "description": "",
            "description_tooltip": null,
            "layout": "IPY_MODEL_a1065ade7a244138a4899c2e5e64dae9",
            "placeholder": "​",
            "style": "IPY_MODEL_d91534d722e34763a4a17164d0cf0910",
            "value": " 14/14 [00:04&lt;00:00,  3.10it/s]"
          }
        },
        "dc7ed0f6c3e9494b93a7d1c2c12cd02d": {
          "model_module": "@jupyter-widgets/base",
          "model_name": "LayoutModel",
          "model_module_version": "1.2.0",
          "state": {
            "_model_module": "@jupyter-widgets/base",
            "_model_module_version": "1.2.0",
            "_model_name": "LayoutModel",
            "_view_count": null,
            "_view_module": "@jupyter-widgets/base",
            "_view_module_version": "1.2.0",
            "_view_name": "LayoutView",
            "align_content": null,
            "align_items": null,
            "align_self": null,
            "border": null,
            "bottom": null,
            "display": null,
            "flex": null,
            "flex_flow": null,
            "grid_area": null,
            "grid_auto_columns": null,
            "grid_auto_flow": null,
            "grid_auto_rows": null,
            "grid_column": null,
            "grid_gap": null,
            "grid_row": null,
            "grid_template_areas": null,
            "grid_template_columns": null,
            "grid_template_rows": null,
            "height": null,
            "justify_content": null,
            "justify_items": null,
            "left": null,
            "margin": null,
            "max_height": null,
            "max_width": null,
            "min_height": null,
            "min_width": null,
            "object_fit": null,
            "object_position": null,
            "order": null,
            "overflow": null,
            "overflow_x": null,
            "overflow_y": null,
            "padding": null,
            "right": null,
            "top": null,
            "visibility": null,
            "width": null
          }
        },
        "e06639180b3a4d9b907dce85b05fb73c": {
          "model_module": "@jupyter-widgets/base",
          "model_name": "LayoutModel",
          "model_module_version": "1.2.0",
          "state": {
            "_model_module": "@jupyter-widgets/base",
            "_model_module_version": "1.2.0",
            "_model_name": "LayoutModel",
            "_view_count": null,
            "_view_module": "@jupyter-widgets/base",
            "_view_module_version": "1.2.0",
            "_view_name": "LayoutView",
            "align_content": null,
            "align_items": null,
            "align_self": null,
            "border": null,
            "bottom": null,
            "display": null,
            "flex": null,
            "flex_flow": null,
            "grid_area": null,
            "grid_auto_columns": null,
            "grid_auto_flow": null,
            "grid_auto_rows": null,
            "grid_column": null,
            "grid_gap": null,
            "grid_row": null,
            "grid_template_areas": null,
            "grid_template_columns": null,
            "grid_template_rows": null,
            "height": null,
            "justify_content": null,
            "justify_items": null,
            "left": null,
            "margin": null,
            "max_height": null,
            "max_width": null,
            "min_height": null,
            "min_width": null,
            "object_fit": null,
            "object_position": null,
            "order": null,
            "overflow": null,
            "overflow_x": null,
            "overflow_y": null,
            "padding": null,
            "right": null,
            "top": null,
            "visibility": null,
            "width": null
          }
        },
        "48c662fc761d4cc09c41870b4cda674f": {
          "model_module": "@jupyter-widgets/controls",
          "model_name": "DescriptionStyleModel",
          "model_module_version": "1.5.0",
          "state": {
            "_model_module": "@jupyter-widgets/controls",
            "_model_module_version": "1.5.0",
            "_model_name": "DescriptionStyleModel",
            "_view_count": null,
            "_view_module": "@jupyter-widgets/base",
            "_view_module_version": "1.2.0",
            "_view_name": "StyleView",
            "description_width": ""
          }
        },
        "642ae3f97ee54c2a8d787a0230382210": {
          "model_module": "@jupyter-widgets/base",
          "model_name": "LayoutModel",
          "model_module_version": "1.2.0",
          "state": {
            "_model_module": "@jupyter-widgets/base",
            "_model_module_version": "1.2.0",
            "_model_name": "LayoutModel",
            "_view_count": null,
            "_view_module": "@jupyter-widgets/base",
            "_view_module_version": "1.2.0",
            "_view_name": "LayoutView",
            "align_content": null,
            "align_items": null,
            "align_self": null,
            "border": null,
            "bottom": null,
            "display": null,
            "flex": null,
            "flex_flow": null,
            "grid_area": null,
            "grid_auto_columns": null,
            "grid_auto_flow": null,
            "grid_auto_rows": null,
            "grid_column": null,
            "grid_gap": null,
            "grid_row": null,
            "grid_template_areas": null,
            "grid_template_columns": null,
            "grid_template_rows": null,
            "height": null,
            "justify_content": null,
            "justify_items": null,
            "left": null,
            "margin": null,
            "max_height": null,
            "max_width": null,
            "min_height": null,
            "min_width": null,
            "object_fit": null,
            "object_position": null,
            "order": null,
            "overflow": null,
            "overflow_x": null,
            "overflow_y": null,
            "padding": null,
            "right": null,
            "top": null,
            "visibility": null,
            "width": null
          }
        },
        "351fda574c5545bf976265c3e6c1d0aa": {
          "model_module": "@jupyter-widgets/controls",
          "model_name": "ProgressStyleModel",
          "model_module_version": "1.5.0",
          "state": {
            "_model_module": "@jupyter-widgets/controls",
            "_model_module_version": "1.5.0",
            "_model_name": "ProgressStyleModel",
            "_view_count": null,
            "_view_module": "@jupyter-widgets/base",
            "_view_module_version": "1.2.0",
            "_view_name": "StyleView",
            "bar_color": null,
            "description_width": ""
          }
        },
        "a1065ade7a244138a4899c2e5e64dae9": {
          "model_module": "@jupyter-widgets/base",
          "model_name": "LayoutModel",
          "model_module_version": "1.2.0",
          "state": {
            "_model_module": "@jupyter-widgets/base",
            "_model_module_version": "1.2.0",
            "_model_name": "LayoutModel",
            "_view_count": null,
            "_view_module": "@jupyter-widgets/base",
            "_view_module_version": "1.2.0",
            "_view_name": "LayoutView",
            "align_content": null,
            "align_items": null,
            "align_self": null,
            "border": null,
            "bottom": null,
            "display": null,
            "flex": null,
            "flex_flow": null,
            "grid_area": null,
            "grid_auto_columns": null,
            "grid_auto_flow": null,
            "grid_auto_rows": null,
            "grid_column": null,
            "grid_gap": null,
            "grid_row": null,
            "grid_template_areas": null,
            "grid_template_columns": null,
            "grid_template_rows": null,
            "height": null,
            "justify_content": null,
            "justify_items": null,
            "left": null,
            "margin": null,
            "max_height": null,
            "max_width": null,
            "min_height": null,
            "min_width": null,
            "object_fit": null,
            "object_position": null,
            "order": null,
            "overflow": null,
            "overflow_x": null,
            "overflow_y": null,
            "padding": null,
            "right": null,
            "top": null,
            "visibility": null,
            "width": null
          }
        },
        "d91534d722e34763a4a17164d0cf0910": {
          "model_module": "@jupyter-widgets/controls",
          "model_name": "DescriptionStyleModel",
          "model_module_version": "1.5.0",
          "state": {
            "_model_module": "@jupyter-widgets/controls",
            "_model_module_version": "1.5.0",
            "_model_name": "DescriptionStyleModel",
            "_view_count": null,
            "_view_module": "@jupyter-widgets/base",
            "_view_module_version": "1.2.0",
            "_view_name": "StyleView",
            "description_width": ""
          }
        },
        "b7b9ccba41ba4b91810a4da9f2a13da8": {
          "model_module": "@jupyter-widgets/controls",
          "model_name": "HBoxModel",
          "model_module_version": "1.5.0",
          "state": {
            "_dom_classes": [],
            "_model_module": "@jupyter-widgets/controls",
            "_model_module_version": "1.5.0",
            "_model_name": "HBoxModel",
            "_view_count": null,
            "_view_module": "@jupyter-widgets/controls",
            "_view_module_version": "1.5.0",
            "_view_name": "HBoxView",
            "box_style": "",
            "children": [
              "IPY_MODEL_237f1ec1c36441df96c300e4725d3eff",
              "IPY_MODEL_de2fc77c63ed476199cf0584a96c9cac",
              "IPY_MODEL_12cdac0529bd4d9d85403dc9bc0eccdc"
            ],
            "layout": "IPY_MODEL_af9c198ae9ad4f219e100a71d1488c63"
          }
        },
        "237f1ec1c36441df96c300e4725d3eff": {
          "model_module": "@jupyter-widgets/controls",
          "model_name": "HTMLModel",
          "model_module_version": "1.5.0",
          "state": {
            "_dom_classes": [],
            "_model_module": "@jupyter-widgets/controls",
            "_model_module_version": "1.5.0",
            "_model_name": "HTMLModel",
            "_view_count": null,
            "_view_module": "@jupyter-widgets/controls",
            "_view_module_version": "1.5.0",
            "_view_name": "HTMLView",
            "description": "",
            "description_tooltip": null,
            "layout": "IPY_MODEL_46a765d330ba465bbd8397bc59fb8ad1",
            "placeholder": "​",
            "style": "IPY_MODEL_0cae2d03a10743d4afa16af6c06d35ee",
            "value": "100%"
          }
        },
        "de2fc77c63ed476199cf0584a96c9cac": {
          "model_module": "@jupyter-widgets/controls",
          "model_name": "FloatProgressModel",
          "model_module_version": "1.5.0",
          "state": {
            "_dom_classes": [],
            "_model_module": "@jupyter-widgets/controls",
            "_model_module_version": "1.5.0",
            "_model_name": "FloatProgressModel",
            "_view_count": null,
            "_view_module": "@jupyter-widgets/controls",
            "_view_module_version": "1.5.0",
            "_view_name": "ProgressView",
            "bar_style": "success",
            "description": "",
            "description_tooltip": null,
            "layout": "IPY_MODEL_c32f4e272f0d4524a70283137d4f05ad",
            "max": 8,
            "min": 0,
            "orientation": "horizontal",
            "style": "IPY_MODEL_45272ac01a364fe5b19d6326d9be84fa",
            "value": 8
          }
        },
        "12cdac0529bd4d9d85403dc9bc0eccdc": {
          "model_module": "@jupyter-widgets/controls",
          "model_name": "HTMLModel",
          "model_module_version": "1.5.0",
          "state": {
            "_dom_classes": [],
            "_model_module": "@jupyter-widgets/controls",
            "_model_module_version": "1.5.0",
            "_model_name": "HTMLModel",
            "_view_count": null,
            "_view_module": "@jupyter-widgets/controls",
            "_view_module_version": "1.5.0",
            "_view_name": "HTMLView",
            "description": "",
            "description_tooltip": null,
            "layout": "IPY_MODEL_732b01dd8e9b4ad5a63854be1d52a444",
            "placeholder": "​",
            "style": "IPY_MODEL_99f599c0ac924549b9454f7ea55256fd",
            "value": " 8/8 [00:02&lt;00:00,  2.58it/s]"
          }
        },
        "af9c198ae9ad4f219e100a71d1488c63": {
          "model_module": "@jupyter-widgets/base",
          "model_name": "LayoutModel",
          "model_module_version": "1.2.0",
          "state": {
            "_model_module": "@jupyter-widgets/base",
            "_model_module_version": "1.2.0",
            "_model_name": "LayoutModel",
            "_view_count": null,
            "_view_module": "@jupyter-widgets/base",
            "_view_module_version": "1.2.0",
            "_view_name": "LayoutView",
            "align_content": null,
            "align_items": null,
            "align_self": null,
            "border": null,
            "bottom": null,
            "display": null,
            "flex": null,
            "flex_flow": null,
            "grid_area": null,
            "grid_auto_columns": null,
            "grid_auto_flow": null,
            "grid_auto_rows": null,
            "grid_column": null,
            "grid_gap": null,
            "grid_row": null,
            "grid_template_areas": null,
            "grid_template_columns": null,
            "grid_template_rows": null,
            "height": null,
            "justify_content": null,
            "justify_items": null,
            "left": null,
            "margin": null,
            "max_height": null,
            "max_width": null,
            "min_height": null,
            "min_width": null,
            "object_fit": null,
            "object_position": null,
            "order": null,
            "overflow": null,
            "overflow_x": null,
            "overflow_y": null,
            "padding": null,
            "right": null,
            "top": null,
            "visibility": null,
            "width": null
          }
        },
        "46a765d330ba465bbd8397bc59fb8ad1": {
          "model_module": "@jupyter-widgets/base",
          "model_name": "LayoutModel",
          "model_module_version": "1.2.0",
          "state": {
            "_model_module": "@jupyter-widgets/base",
            "_model_module_version": "1.2.0",
            "_model_name": "LayoutModel",
            "_view_count": null,
            "_view_module": "@jupyter-widgets/base",
            "_view_module_version": "1.2.0",
            "_view_name": "LayoutView",
            "align_content": null,
            "align_items": null,
            "align_self": null,
            "border": null,
            "bottom": null,
            "display": null,
            "flex": null,
            "flex_flow": null,
            "grid_area": null,
            "grid_auto_columns": null,
            "grid_auto_flow": null,
            "grid_auto_rows": null,
            "grid_column": null,
            "grid_gap": null,
            "grid_row": null,
            "grid_template_areas": null,
            "grid_template_columns": null,
            "grid_template_rows": null,
            "height": null,
            "justify_content": null,
            "justify_items": null,
            "left": null,
            "margin": null,
            "max_height": null,
            "max_width": null,
            "min_height": null,
            "min_width": null,
            "object_fit": null,
            "object_position": null,
            "order": null,
            "overflow": null,
            "overflow_x": null,
            "overflow_y": null,
            "padding": null,
            "right": null,
            "top": null,
            "visibility": null,
            "width": null
          }
        },
        "0cae2d03a10743d4afa16af6c06d35ee": {
          "model_module": "@jupyter-widgets/controls",
          "model_name": "DescriptionStyleModel",
          "model_module_version": "1.5.0",
          "state": {
            "_model_module": "@jupyter-widgets/controls",
            "_model_module_version": "1.5.0",
            "_model_name": "DescriptionStyleModel",
            "_view_count": null,
            "_view_module": "@jupyter-widgets/base",
            "_view_module_version": "1.2.0",
            "_view_name": "StyleView",
            "description_width": ""
          }
        },
        "c32f4e272f0d4524a70283137d4f05ad": {
          "model_module": "@jupyter-widgets/base",
          "model_name": "LayoutModel",
          "model_module_version": "1.2.0",
          "state": {
            "_model_module": "@jupyter-widgets/base",
            "_model_module_version": "1.2.0",
            "_model_name": "LayoutModel",
            "_view_count": null,
            "_view_module": "@jupyter-widgets/base",
            "_view_module_version": "1.2.0",
            "_view_name": "LayoutView",
            "align_content": null,
            "align_items": null,
            "align_self": null,
            "border": null,
            "bottom": null,
            "display": null,
            "flex": null,
            "flex_flow": null,
            "grid_area": null,
            "grid_auto_columns": null,
            "grid_auto_flow": null,
            "grid_auto_rows": null,
            "grid_column": null,
            "grid_gap": null,
            "grid_row": null,
            "grid_template_areas": null,
            "grid_template_columns": null,
            "grid_template_rows": null,
            "height": null,
            "justify_content": null,
            "justify_items": null,
            "left": null,
            "margin": null,
            "max_height": null,
            "max_width": null,
            "min_height": null,
            "min_width": null,
            "object_fit": null,
            "object_position": null,
            "order": null,
            "overflow": null,
            "overflow_x": null,
            "overflow_y": null,
            "padding": null,
            "right": null,
            "top": null,
            "visibility": null,
            "width": null
          }
        },
        "45272ac01a364fe5b19d6326d9be84fa": {
          "model_module": "@jupyter-widgets/controls",
          "model_name": "ProgressStyleModel",
          "model_module_version": "1.5.0",
          "state": {
            "_model_module": "@jupyter-widgets/controls",
            "_model_module_version": "1.5.0",
            "_model_name": "ProgressStyleModel",
            "_view_count": null,
            "_view_module": "@jupyter-widgets/base",
            "_view_module_version": "1.2.0",
            "_view_name": "StyleView",
            "bar_color": null,
            "description_width": ""
          }
        },
        "732b01dd8e9b4ad5a63854be1d52a444": {
          "model_module": "@jupyter-widgets/base",
          "model_name": "LayoutModel",
          "model_module_version": "1.2.0",
          "state": {
            "_model_module": "@jupyter-widgets/base",
            "_model_module_version": "1.2.0",
            "_model_name": "LayoutModel",
            "_view_count": null,
            "_view_module": "@jupyter-widgets/base",
            "_view_module_version": "1.2.0",
            "_view_name": "LayoutView",
            "align_content": null,
            "align_items": null,
            "align_self": null,
            "border": null,
            "bottom": null,
            "display": null,
            "flex": null,
            "flex_flow": null,
            "grid_area": null,
            "grid_auto_columns": null,
            "grid_auto_flow": null,
            "grid_auto_rows": null,
            "grid_column": null,
            "grid_gap": null,
            "grid_row": null,
            "grid_template_areas": null,
            "grid_template_columns": null,
            "grid_template_rows": null,
            "height": null,
            "justify_content": null,
            "justify_items": null,
            "left": null,
            "margin": null,
            "max_height": null,
            "max_width": null,
            "min_height": null,
            "min_width": null,
            "object_fit": null,
            "object_position": null,
            "order": null,
            "overflow": null,
            "overflow_x": null,
            "overflow_y": null,
            "padding": null,
            "right": null,
            "top": null,
            "visibility": null,
            "width": null
          }
        },
        "99f599c0ac924549b9454f7ea55256fd": {
          "model_module": "@jupyter-widgets/controls",
          "model_name": "DescriptionStyleModel",
          "model_module_version": "1.5.0",
          "state": {
            "_model_module": "@jupyter-widgets/controls",
            "_model_module_version": "1.5.0",
            "_model_name": "DescriptionStyleModel",
            "_view_count": null,
            "_view_module": "@jupyter-widgets/base",
            "_view_module_version": "1.2.0",
            "_view_name": "StyleView",
            "description_width": ""
          }
        }
      }
    }
  },
  "nbformat": 4,
  "nbformat_minor": 0
}